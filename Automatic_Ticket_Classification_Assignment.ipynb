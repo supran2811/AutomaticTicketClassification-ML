{
 "cells": [
  {
   "cell_type": "markdown",
   "metadata": {
    "id": "rhR-ZUkwJrFn"
   },
   "source": [
    "## Problem Statement \n",
    "\n",
    "You need to build a model that is able to classify customer complaints based on the products/services. By doing so, you can segregate these tickets into their relevant categories and, therefore, help in the quick resolution of the issue.\n",
    "\n",
    "You will be doing topic modelling on the <b>.json</b> data provided by the company. Since this data is not labelled, you need to apply NMF to analyse patterns and classify tickets into the following five clusters based on their products/services:\n",
    "\n",
    "* Credit card / Prepaid card\n",
    "\n",
    "* Bank account services\n",
    "\n",
    "* Theft/Dispute reporting\n",
    "\n",
    "* Mortgages/loans\n",
    "\n",
    "* Others \n",
    "\n",
    "\n",
    "With the help of topic modelling, you will be able to map each ticket onto its respective department/category. You can then use this data to train any supervised model such as logistic regression, decision tree or random forest. Using this trained model, you can classify any new customer complaint support ticket into its relevant department."
   ]
  },
  {
   "cell_type": "markdown",
   "metadata": {
    "id": "mcgXVNyaLUFS"
   },
   "source": [
    "## Pipelines that needs to be performed:\n",
    "\n",
    "You need to perform the following eight major tasks to complete the assignment:\n",
    "\n",
    "1.  Data loading\n",
    "\n",
    "2. Text preprocessing\n",
    "\n",
    "3. Exploratory data analysis (EDA)\n",
    "\n",
    "4. Feature extraction\n",
    "\n",
    "5. Topic modelling \n",
    "\n",
    "6. Model building using supervised learning\n",
    "\n",
    "7. Model training and evaluation\n",
    "\n",
    "8. Model inference"
   ]
  },
  {
   "cell_type": "markdown",
   "metadata": {
    "id": "JuLFIymAL58u"
   },
   "source": [
    "## Importing the necessary libraries"
   ]
  },
  {
   "cell_type": "code",
   "execution_count": 1,
   "metadata": {},
   "outputs": [
    {
     "name": "stdout",
     "output_type": "stream",
     "text": [
      "Requirement already satisfied: wordcloud in c:\\users\\supran\\anaconda3\\lib\\site-packages (1.8.1)\n",
      "Requirement already satisfied: pillow in c:\\users\\supran\\anaconda3\\lib\\site-packages (from wordcloud) (8.0.1)\n",
      "Requirement already satisfied: numpy>=1.6.1 in c:\\users\\supran\\anaconda3\\lib\\site-packages (from wordcloud) (1.22.2)\n",
      "Requirement already satisfied: matplotlib in c:\\users\\supran\\anaconda3\\lib\\site-packages (from wordcloud) (3.3.2)\n",
      "Requirement already satisfied: kiwisolver>=1.0.1 in c:\\users\\supran\\anaconda3\\lib\\site-packages (from matplotlib->wordcloud) (1.3.0)\n",
      "Requirement already satisfied: certifi>=2020.06.20 in c:\\users\\supran\\anaconda3\\lib\\site-packages (from matplotlib->wordcloud) (2020.6.20)\n",
      "Requirement already satisfied: pyparsing!=2.0.4,!=2.1.2,!=2.1.6,>=2.0.3 in c:\\users\\supran\\anaconda3\\lib\\site-packages (from matplotlib->wordcloud) (2.4.7)\n",
      "Requirement already satisfied: python-dateutil>=2.1 in c:\\users\\supran\\anaconda3\\lib\\site-packages (from matplotlib->wordcloud) (2.8.1)\n",
      "Requirement already satisfied: cycler>=0.10 in c:\\users\\supran\\anaconda3\\lib\\site-packages (from matplotlib->wordcloud) (0.10.0)\n",
      "Requirement already satisfied: six>=1.5 in c:\\users\\supran\\anaconda3\\lib\\site-packages (from python-dateutil>=2.1->matplotlib->wordcloud) (1.15.0)\n"
     ]
    }
   ],
   "source": [
    "!pip install wordcloud"
   ]
  },
  {
   "cell_type": "code",
   "execution_count": null,
   "metadata": {},
   "outputs": [],
   "source": []
  },
  {
   "cell_type": "code",
   "execution_count": 2,
   "metadata": {
    "id": "O-Q9pqrcJrFr"
   },
   "outputs": [],
   "source": [
    "import json \n",
    "import numpy as np\n",
    "import pandas as pd\n",
    "import re, nltk, spacy, string\n",
    "import en_core_web_sm\n",
    "nlp = en_core_web_sm.load()\n",
    "import seaborn as sns\n",
    "import matplotlib.pyplot as plt\n",
    "%matplotlib inline\n",
    "\n",
    "from plotly.offline import plot\n",
    "import plotly.graph_objects as go\n",
    "import plotly.express as px\n",
    "\n",
    "from sklearn.feature_extraction.text import CountVectorizer, TfidfVectorizer,TfidfTransformer\n",
    "from pprint import pprint\n",
    "\n",
    "from nltk.tokenize import RegexpTokenizer"
   ]
  },
  {
   "cell_type": "code",
   "execution_count": 3,
   "metadata": {},
   "outputs": [],
   "source": [
    "# pd.set_option(\"display.max_columns\", None)\n",
    "# pd.set_option(\"display.max_rows\", None)\n",
    "# pd.set_option('display.max_colwidth', -1)"
   ]
  },
  {
   "cell_type": "markdown",
   "metadata": {
    "id": "KtRLCsNVJrFt"
   },
   "source": [
    "## Loading the data\n",
    "\n",
    "The data is in JSON format and we need to convert it to a dataframe."
   ]
  },
  {
   "cell_type": "code",
   "execution_count": 4,
   "metadata": {
    "id": "puVzIf_iJrFt"
   },
   "outputs": [],
   "source": [
    "# Opening JSON file \n",
    "f = open('complaints.json','r') # Write the path to your data file and load it \n",
    "  \n",
    "# returns JSON object as  \n",
    "# a dictionary \n",
    "data = json.load(f)\n",
    "df=pd.json_normalize(data)"
   ]
  },
  {
   "cell_type": "markdown",
   "metadata": {
    "id": "_xYpH-sAJrFu"
   },
   "source": [
    "## Data preparation"
   ]
  },
  {
   "cell_type": "code",
   "execution_count": 5,
   "metadata": {
    "id": "Lf8ufHH5JrFu"
   },
   "outputs": [
    {
     "data": {
      "text/html": [
       "<div>\n",
       "<style scoped>\n",
       "    .dataframe tbody tr th:only-of-type {\n",
       "        vertical-align: middle;\n",
       "    }\n",
       "\n",
       "    .dataframe tbody tr th {\n",
       "        vertical-align: top;\n",
       "    }\n",
       "\n",
       "    .dataframe thead th {\n",
       "        text-align: right;\n",
       "    }\n",
       "</style>\n",
       "<table border=\"1\" class=\"dataframe\">\n",
       "  <thead>\n",
       "    <tr style=\"text-align: right;\">\n",
       "      <th></th>\n",
       "      <th>_index</th>\n",
       "      <th>_type</th>\n",
       "      <th>_id</th>\n",
       "      <th>_score</th>\n",
       "      <th>_source.tags</th>\n",
       "      <th>_source.zip_code</th>\n",
       "      <th>_source.complaint_id</th>\n",
       "      <th>_source.issue</th>\n",
       "      <th>_source.date_received</th>\n",
       "      <th>_source.state</th>\n",
       "      <th>...</th>\n",
       "      <th>_source.company_response</th>\n",
       "      <th>_source.company</th>\n",
       "      <th>_source.submitted_via</th>\n",
       "      <th>_source.date_sent_to_company</th>\n",
       "      <th>_source.company_public_response</th>\n",
       "      <th>_source.sub_product</th>\n",
       "      <th>_source.timely</th>\n",
       "      <th>_source.complaint_what_happened</th>\n",
       "      <th>_source.sub_issue</th>\n",
       "      <th>_source.consumer_consent_provided</th>\n",
       "    </tr>\n",
       "  </thead>\n",
       "  <tbody>\n",
       "    <tr>\n",
       "      <th>0</th>\n",
       "      <td>complaint-public-v2</td>\n",
       "      <td>complaint</td>\n",
       "      <td>3211475</td>\n",
       "      <td>0.0</td>\n",
       "      <td>None</td>\n",
       "      <td>90301</td>\n",
       "      <td>3211475</td>\n",
       "      <td>Attempts to collect debt not owed</td>\n",
       "      <td>2019-04-13T12:00:00-05:00</td>\n",
       "      <td>CA</td>\n",
       "      <td>...</td>\n",
       "      <td>Closed with explanation</td>\n",
       "      <td>JPMORGAN CHASE &amp; CO.</td>\n",
       "      <td>Web</td>\n",
       "      <td>2019-04-13T12:00:00-05:00</td>\n",
       "      <td>None</td>\n",
       "      <td>Credit card debt</td>\n",
       "      <td>Yes</td>\n",
       "      <td></td>\n",
       "      <td>Debt is not yours</td>\n",
       "      <td>Consent not provided</td>\n",
       "    </tr>\n",
       "    <tr>\n",
       "      <th>1</th>\n",
       "      <td>complaint-public-v2</td>\n",
       "      <td>complaint</td>\n",
       "      <td>3229299</td>\n",
       "      <td>0.0</td>\n",
       "      <td>Servicemember</td>\n",
       "      <td>319XX</td>\n",
       "      <td>3229299</td>\n",
       "      <td>Written notification about debt</td>\n",
       "      <td>2019-05-01T12:00:00-05:00</td>\n",
       "      <td>GA</td>\n",
       "      <td>...</td>\n",
       "      <td>Closed with explanation</td>\n",
       "      <td>JPMORGAN CHASE &amp; CO.</td>\n",
       "      <td>Web</td>\n",
       "      <td>2019-05-01T12:00:00-05:00</td>\n",
       "      <td>None</td>\n",
       "      <td>Credit card debt</td>\n",
       "      <td>Yes</td>\n",
       "      <td>Good morning my name is XXXX XXXX and I apprec...</td>\n",
       "      <td>Didn't receive enough information to verify debt</td>\n",
       "      <td>Consent provided</td>\n",
       "    </tr>\n",
       "    <tr>\n",
       "      <th>2</th>\n",
       "      <td>complaint-public-v2</td>\n",
       "      <td>complaint</td>\n",
       "      <td>3199379</td>\n",
       "      <td>0.0</td>\n",
       "      <td>None</td>\n",
       "      <td>77069</td>\n",
       "      <td>3199379</td>\n",
       "      <td>Other features, terms, or problems</td>\n",
       "      <td>2019-04-02T12:00:00-05:00</td>\n",
       "      <td>TX</td>\n",
       "      <td>...</td>\n",
       "      <td>Closed with explanation</td>\n",
       "      <td>JPMORGAN CHASE &amp; CO.</td>\n",
       "      <td>Web</td>\n",
       "      <td>2019-04-02T12:00:00-05:00</td>\n",
       "      <td>None</td>\n",
       "      <td>General-purpose credit card or charge card</td>\n",
       "      <td>Yes</td>\n",
       "      <td>I upgraded my XXXX XXXX card in XX/XX/2018 and...</td>\n",
       "      <td>Problem with rewards from credit card</td>\n",
       "      <td>Consent provided</td>\n",
       "    </tr>\n",
       "    <tr>\n",
       "      <th>3</th>\n",
       "      <td>complaint-public-v2</td>\n",
       "      <td>complaint</td>\n",
       "      <td>2673060</td>\n",
       "      <td>0.0</td>\n",
       "      <td>None</td>\n",
       "      <td>48066</td>\n",
       "      <td>2673060</td>\n",
       "      <td>Trouble during payment process</td>\n",
       "      <td>2017-09-13T12:00:00-05:00</td>\n",
       "      <td>MI</td>\n",
       "      <td>...</td>\n",
       "      <td>Closed with explanation</td>\n",
       "      <td>JPMORGAN CHASE &amp; CO.</td>\n",
       "      <td>Web</td>\n",
       "      <td>2017-09-14T12:00:00-05:00</td>\n",
       "      <td>None</td>\n",
       "      <td>Conventional home mortgage</td>\n",
       "      <td>Yes</td>\n",
       "      <td></td>\n",
       "      <td>None</td>\n",
       "      <td>Consent not provided</td>\n",
       "    </tr>\n",
       "    <tr>\n",
       "      <th>4</th>\n",
       "      <td>complaint-public-v2</td>\n",
       "      <td>complaint</td>\n",
       "      <td>3203545</td>\n",
       "      <td>0.0</td>\n",
       "      <td>None</td>\n",
       "      <td>10473</td>\n",
       "      <td>3203545</td>\n",
       "      <td>Fees or interest</td>\n",
       "      <td>2019-04-05T12:00:00-05:00</td>\n",
       "      <td>NY</td>\n",
       "      <td>...</td>\n",
       "      <td>Closed with explanation</td>\n",
       "      <td>JPMORGAN CHASE &amp; CO.</td>\n",
       "      <td>Referral</td>\n",
       "      <td>2019-04-05T12:00:00-05:00</td>\n",
       "      <td>None</td>\n",
       "      <td>General-purpose credit card or charge card</td>\n",
       "      <td>Yes</td>\n",
       "      <td></td>\n",
       "      <td>Charged too much interest</td>\n",
       "      <td>N/A</td>\n",
       "    </tr>\n",
       "  </tbody>\n",
       "</table>\n",
       "<p>5 rows × 22 columns</p>\n",
       "</div>"
      ],
      "text/plain": [
       "                _index      _type      _id  _score   _source.tags  \\\n",
       "0  complaint-public-v2  complaint  3211475     0.0           None   \n",
       "1  complaint-public-v2  complaint  3229299     0.0  Servicemember   \n",
       "2  complaint-public-v2  complaint  3199379     0.0           None   \n",
       "3  complaint-public-v2  complaint  2673060     0.0           None   \n",
       "4  complaint-public-v2  complaint  3203545     0.0           None   \n",
       "\n",
       "  _source.zip_code _source.complaint_id                       _source.issue  \\\n",
       "0            90301              3211475   Attempts to collect debt not owed   \n",
       "1            319XX              3229299     Written notification about debt   \n",
       "2            77069              3199379  Other features, terms, or problems   \n",
       "3            48066              2673060      Trouble during payment process   \n",
       "4            10473              3203545                    Fees or interest   \n",
       "\n",
       "       _source.date_received _source.state  ... _source.company_response  \\\n",
       "0  2019-04-13T12:00:00-05:00            CA  ...  Closed with explanation   \n",
       "1  2019-05-01T12:00:00-05:00            GA  ...  Closed with explanation   \n",
       "2  2019-04-02T12:00:00-05:00            TX  ...  Closed with explanation   \n",
       "3  2017-09-13T12:00:00-05:00            MI  ...  Closed with explanation   \n",
       "4  2019-04-05T12:00:00-05:00            NY  ...  Closed with explanation   \n",
       "\n",
       "        _source.company _source.submitted_via _source.date_sent_to_company  \\\n",
       "0  JPMORGAN CHASE & CO.                   Web    2019-04-13T12:00:00-05:00   \n",
       "1  JPMORGAN CHASE & CO.                   Web    2019-05-01T12:00:00-05:00   \n",
       "2  JPMORGAN CHASE & CO.                   Web    2019-04-02T12:00:00-05:00   \n",
       "3  JPMORGAN CHASE & CO.                   Web    2017-09-14T12:00:00-05:00   \n",
       "4  JPMORGAN CHASE & CO.              Referral    2019-04-05T12:00:00-05:00   \n",
       "\n",
       "  _source.company_public_response                         _source.sub_product  \\\n",
       "0                            None                            Credit card debt   \n",
       "1                            None                            Credit card debt   \n",
       "2                            None  General-purpose credit card or charge card   \n",
       "3                            None                  Conventional home mortgage   \n",
       "4                            None  General-purpose credit card or charge card   \n",
       "\n",
       "  _source.timely                    _source.complaint_what_happened  \\\n",
       "0            Yes                                                      \n",
       "1            Yes  Good morning my name is XXXX XXXX and I apprec...   \n",
       "2            Yes  I upgraded my XXXX XXXX card in XX/XX/2018 and...   \n",
       "3            Yes                                                      \n",
       "4            Yes                                                      \n",
       "\n",
       "                                  _source.sub_issue  \\\n",
       "0                                 Debt is not yours   \n",
       "1  Didn't receive enough information to verify debt   \n",
       "2             Problem with rewards from credit card   \n",
       "3                                              None   \n",
       "4                         Charged too much interest   \n",
       "\n",
       "  _source.consumer_consent_provided  \n",
       "0              Consent not provided  \n",
       "1                  Consent provided  \n",
       "2                  Consent provided  \n",
       "3              Consent not provided  \n",
       "4                               N/A  \n",
       "\n",
       "[5 rows x 22 columns]"
      ]
     },
     "execution_count": 5,
     "metadata": {},
     "output_type": "execute_result"
    }
   ],
   "source": [
    "# Inspect the dataframe to understand the given data.\n",
    "df.head(5)\n"
   ]
  },
  {
   "cell_type": "code",
   "execution_count": 6,
   "metadata": {},
   "outputs": [
    {
     "data": {
      "text/plain": [
       "(78313, 22)"
      ]
     },
     "execution_count": 6,
     "metadata": {},
     "output_type": "execute_result"
    }
   ],
   "source": [
    "df.shape"
   ]
  },
  {
   "cell_type": "code",
   "execution_count": 7,
   "metadata": {
    "id": "Dwcty-wmJrFw"
   },
   "outputs": [
    {
     "data": {
      "text/plain": [
       "Index(['_index', '_type', '_id', '_score', '_source.tags', '_source.zip_code',\n",
       "       '_source.complaint_id', '_source.issue', '_source.date_received',\n",
       "       '_source.state', '_source.consumer_disputed', '_source.product',\n",
       "       '_source.company_response', '_source.company', '_source.submitted_via',\n",
       "       '_source.date_sent_to_company', '_source.company_public_response',\n",
       "       '_source.sub_product', '_source.timely',\n",
       "       '_source.complaint_what_happened', '_source.sub_issue',\n",
       "       '_source.consumer_consent_provided'],\n",
       "      dtype='object')"
      ]
     },
     "execution_count": 7,
     "metadata": {},
     "output_type": "execute_result"
    }
   ],
   "source": [
    "#print the column names\n",
    "df.columns"
   ]
  },
  {
   "cell_type": "code",
   "execution_count": 8,
   "metadata": {
    "id": "FYCtKXD1JrFw"
   },
   "outputs": [],
   "source": [
    "#Assign new column names\n",
    "df.rename(columns={'_source.tags':'tags',\n",
    "                   '_source.zip_code':'zip_code',\n",
    "                  '_source.complaint_id':'complaint_id',\n",
    "                  '_source.issue':'issue',\n",
    "                  '_source.date_received':'date_received',\n",
    "                  '_source.state':'state',\n",
    "                  '_source.consumer_disputed':'consumer_disputed',\n",
    "                  '_source.product':'product',\n",
    "                  '_source.company_response':'company_response',\n",
    "                  '_source.company':'company',\n",
    "                  '_source.submitted_via':'submitted_via',\n",
    "                  '_source.date_sent_to_company':'date_sent_to_company',\n",
    "                  '_source.company_public_response':'company_public_response',\n",
    "                  '_source.sub_product':'sub_product',\n",
    "                  '_source.timely':'timely',\n",
    "                  '_source.complaint_what_happened':'complaint_original',\n",
    "                  '_source.sub_issue':'sub_issue',\n",
    "                  '_source.consumer_consent_provided':'consumer_consent_provided'},inplace=True)"
   ]
  },
  {
   "cell_type": "code",
   "execution_count": 9,
   "metadata": {
    "id": "grQUPFL5JrFx"
   },
   "outputs": [
    {
     "data": {
      "text/html": [
       "<div>\n",
       "<style scoped>\n",
       "    .dataframe tbody tr th:only-of-type {\n",
       "        vertical-align: middle;\n",
       "    }\n",
       "\n",
       "    .dataframe tbody tr th {\n",
       "        vertical-align: top;\n",
       "    }\n",
       "\n",
       "    .dataframe thead th {\n",
       "        text-align: right;\n",
       "    }\n",
       "</style>\n",
       "<table border=\"1\" class=\"dataframe\">\n",
       "  <thead>\n",
       "    <tr style=\"text-align: right;\">\n",
       "      <th></th>\n",
       "      <th>_index</th>\n",
       "      <th>_type</th>\n",
       "      <th>_id</th>\n",
       "      <th>_score</th>\n",
       "      <th>tags</th>\n",
       "      <th>zip_code</th>\n",
       "      <th>complaint_id</th>\n",
       "      <th>issue</th>\n",
       "      <th>date_received</th>\n",
       "      <th>state</th>\n",
       "      <th>...</th>\n",
       "      <th>company_response</th>\n",
       "      <th>company</th>\n",
       "      <th>submitted_via</th>\n",
       "      <th>date_sent_to_company</th>\n",
       "      <th>company_public_response</th>\n",
       "      <th>sub_product</th>\n",
       "      <th>timely</th>\n",
       "      <th>complaint_original</th>\n",
       "      <th>sub_issue</th>\n",
       "      <th>consumer_consent_provided</th>\n",
       "    </tr>\n",
       "  </thead>\n",
       "  <tbody>\n",
       "    <tr>\n",
       "      <th>0</th>\n",
       "      <td>complaint-public-v2</td>\n",
       "      <td>complaint</td>\n",
       "      <td>3211475</td>\n",
       "      <td>0.0</td>\n",
       "      <td>None</td>\n",
       "      <td>90301</td>\n",
       "      <td>3211475</td>\n",
       "      <td>Attempts to collect debt not owed</td>\n",
       "      <td>2019-04-13T12:00:00-05:00</td>\n",
       "      <td>CA</td>\n",
       "      <td>...</td>\n",
       "      <td>Closed with explanation</td>\n",
       "      <td>JPMORGAN CHASE &amp; CO.</td>\n",
       "      <td>Web</td>\n",
       "      <td>2019-04-13T12:00:00-05:00</td>\n",
       "      <td>None</td>\n",
       "      <td>Credit card debt</td>\n",
       "      <td>Yes</td>\n",
       "      <td>NaN</td>\n",
       "      <td>Debt is not yours</td>\n",
       "      <td>Consent not provided</td>\n",
       "    </tr>\n",
       "    <tr>\n",
       "      <th>3</th>\n",
       "      <td>complaint-public-v2</td>\n",
       "      <td>complaint</td>\n",
       "      <td>2673060</td>\n",
       "      <td>0.0</td>\n",
       "      <td>None</td>\n",
       "      <td>48066</td>\n",
       "      <td>2673060</td>\n",
       "      <td>Trouble during payment process</td>\n",
       "      <td>2017-09-13T12:00:00-05:00</td>\n",
       "      <td>MI</td>\n",
       "      <td>...</td>\n",
       "      <td>Closed with explanation</td>\n",
       "      <td>JPMORGAN CHASE &amp; CO.</td>\n",
       "      <td>Web</td>\n",
       "      <td>2017-09-14T12:00:00-05:00</td>\n",
       "      <td>None</td>\n",
       "      <td>Conventional home mortgage</td>\n",
       "      <td>Yes</td>\n",
       "      <td>NaN</td>\n",
       "      <td>None</td>\n",
       "      <td>Consent not provided</td>\n",
       "    </tr>\n",
       "    <tr>\n",
       "      <th>4</th>\n",
       "      <td>complaint-public-v2</td>\n",
       "      <td>complaint</td>\n",
       "      <td>3203545</td>\n",
       "      <td>0.0</td>\n",
       "      <td>None</td>\n",
       "      <td>10473</td>\n",
       "      <td>3203545</td>\n",
       "      <td>Fees or interest</td>\n",
       "      <td>2019-04-05T12:00:00-05:00</td>\n",
       "      <td>NY</td>\n",
       "      <td>...</td>\n",
       "      <td>Closed with explanation</td>\n",
       "      <td>JPMORGAN CHASE &amp; CO.</td>\n",
       "      <td>Referral</td>\n",
       "      <td>2019-04-05T12:00:00-05:00</td>\n",
       "      <td>None</td>\n",
       "      <td>General-purpose credit card or charge card</td>\n",
       "      <td>Yes</td>\n",
       "      <td>NaN</td>\n",
       "      <td>Charged too much interest</td>\n",
       "      <td>N/A</td>\n",
       "    </tr>\n",
       "    <tr>\n",
       "      <th>5</th>\n",
       "      <td>complaint-public-v2</td>\n",
       "      <td>complaint</td>\n",
       "      <td>3275312</td>\n",
       "      <td>0.0</td>\n",
       "      <td>Older American</td>\n",
       "      <td>48227</td>\n",
       "      <td>3275312</td>\n",
       "      <td>Managing an account</td>\n",
       "      <td>2019-06-13T12:00:00-05:00</td>\n",
       "      <td>MI</td>\n",
       "      <td>...</td>\n",
       "      <td>Closed with monetary relief</td>\n",
       "      <td>JPMORGAN CHASE &amp; CO.</td>\n",
       "      <td>Referral</td>\n",
       "      <td>2019-06-14T12:00:00-05:00</td>\n",
       "      <td>None</td>\n",
       "      <td>Checking account</td>\n",
       "      <td>Yes</td>\n",
       "      <td>NaN</td>\n",
       "      <td>Problem using a debit or ATM card</td>\n",
       "      <td>N/A</td>\n",
       "    </tr>\n",
       "    <tr>\n",
       "      <th>6</th>\n",
       "      <td>complaint-public-v2</td>\n",
       "      <td>complaint</td>\n",
       "      <td>3238804</td>\n",
       "      <td>0.0</td>\n",
       "      <td>None</td>\n",
       "      <td>76262</td>\n",
       "      <td>3238804</td>\n",
       "      <td>Managing an account</td>\n",
       "      <td>2019-05-10T12:00:00-05:00</td>\n",
       "      <td>TX</td>\n",
       "      <td>...</td>\n",
       "      <td>Closed with monetary relief</td>\n",
       "      <td>JPMORGAN CHASE &amp; CO.</td>\n",
       "      <td>Phone</td>\n",
       "      <td>2019-05-10T12:00:00-05:00</td>\n",
       "      <td>None</td>\n",
       "      <td>Checking account</td>\n",
       "      <td>Yes</td>\n",
       "      <td>NaN</td>\n",
       "      <td>Problem using a debit or ATM card</td>\n",
       "      <td>N/A</td>\n",
       "    </tr>\n",
       "    <tr>\n",
       "      <th>...</th>\n",
       "      <td>...</td>\n",
       "      <td>...</td>\n",
       "      <td>...</td>\n",
       "      <td>...</td>\n",
       "      <td>...</td>\n",
       "      <td>...</td>\n",
       "      <td>...</td>\n",
       "      <td>...</td>\n",
       "      <td>...</td>\n",
       "      <td>...</td>\n",
       "      <td>...</td>\n",
       "      <td>...</td>\n",
       "      <td>...</td>\n",
       "      <td>...</td>\n",
       "      <td>...</td>\n",
       "      <td>...</td>\n",
       "      <td>...</td>\n",
       "      <td>...</td>\n",
       "      <td>...</td>\n",
       "      <td>...</td>\n",
       "      <td>...</td>\n",
       "    </tr>\n",
       "    <tr>\n",
       "      <th>78304</th>\n",
       "      <td>complaint-public-v2</td>\n",
       "      <td>complaint</td>\n",
       "      <td>3080086</td>\n",
       "      <td>0.0</td>\n",
       "      <td>None</td>\n",
       "      <td>76107</td>\n",
       "      <td>3080086</td>\n",
       "      <td>Applying for a mortgage or refinancing an exis...</td>\n",
       "      <td>2018-11-22T12:00:00-05:00</td>\n",
       "      <td>TX</td>\n",
       "      <td>...</td>\n",
       "      <td>Closed with monetary relief</td>\n",
       "      <td>JPMORGAN CHASE &amp; CO.</td>\n",
       "      <td>Web</td>\n",
       "      <td>2018-11-22T12:00:00-05:00</td>\n",
       "      <td>None</td>\n",
       "      <td>Conventional home mortgage</td>\n",
       "      <td>Yes</td>\n",
       "      <td>NaN</td>\n",
       "      <td>None</td>\n",
       "      <td>Other</td>\n",
       "    </tr>\n",
       "    <tr>\n",
       "      <th>78305</th>\n",
       "      <td>complaint-public-v2</td>\n",
       "      <td>complaint</td>\n",
       "      <td>3103013</td>\n",
       "      <td>0.0</td>\n",
       "      <td>Older American</td>\n",
       "      <td>863XX</td>\n",
       "      <td>3103013</td>\n",
       "      <td>Closing an account</td>\n",
       "      <td>2018-12-17T12:00:00-05:00</td>\n",
       "      <td>AZ</td>\n",
       "      <td>...</td>\n",
       "      <td>Closed with explanation</td>\n",
       "      <td>JPMORGAN CHASE &amp; CO.</td>\n",
       "      <td>Web</td>\n",
       "      <td>2018-12-18T12:00:00-05:00</td>\n",
       "      <td>None</td>\n",
       "      <td>Other banking product or service</td>\n",
       "      <td>Yes</td>\n",
       "      <td>NaN</td>\n",
       "      <td>Funds not received from closed account</td>\n",
       "      <td>Consent not provided</td>\n",
       "    </tr>\n",
       "    <tr>\n",
       "      <th>78306</th>\n",
       "      <td>complaint-public-v2</td>\n",
       "      <td>complaint</td>\n",
       "      <td>3099437</td>\n",
       "      <td>0.0</td>\n",
       "      <td>None</td>\n",
       "      <td>11217</td>\n",
       "      <td>3099437</td>\n",
       "      <td>Managing an account</td>\n",
       "      <td>2018-12-12T12:00:00-05:00</td>\n",
       "      <td>NY</td>\n",
       "      <td>...</td>\n",
       "      <td>Closed with explanation</td>\n",
       "      <td>JPMORGAN CHASE &amp; CO.</td>\n",
       "      <td>Referral</td>\n",
       "      <td>2018-12-18T12:00:00-05:00</td>\n",
       "      <td>None</td>\n",
       "      <td>Checking account</td>\n",
       "      <td>Yes</td>\n",
       "      <td>NaN</td>\n",
       "      <td>Deposits and withdrawals</td>\n",
       "      <td>N/A</td>\n",
       "    </tr>\n",
       "    <tr>\n",
       "      <th>78307</th>\n",
       "      <td>complaint-public-v2</td>\n",
       "      <td>complaint</td>\n",
       "      <td>3156336</td>\n",
       "      <td>0.0</td>\n",
       "      <td>None</td>\n",
       "      <td>074XX</td>\n",
       "      <td>3156336</td>\n",
       "      <td>Applying for a mortgage or refinancing an exis...</td>\n",
       "      <td>2019-02-19T12:00:00-05:00</td>\n",
       "      <td>NJ</td>\n",
       "      <td>...</td>\n",
       "      <td>Closed with explanation</td>\n",
       "      <td>JPMORGAN CHASE &amp; CO.</td>\n",
       "      <td>Web</td>\n",
       "      <td>2019-02-19T12:00:00-05:00</td>\n",
       "      <td>None</td>\n",
       "      <td>Conventional home mortgage</td>\n",
       "      <td>Yes</td>\n",
       "      <td>NaN</td>\n",
       "      <td>None</td>\n",
       "      <td>Other</td>\n",
       "    </tr>\n",
       "    <tr>\n",
       "      <th>78308</th>\n",
       "      <td>complaint-public-v2</td>\n",
       "      <td>complaint</td>\n",
       "      <td>3105617</td>\n",
       "      <td>0.0</td>\n",
       "      <td>None</td>\n",
       "      <td>08857</td>\n",
       "      <td>3105617</td>\n",
       "      <td>Closing an account</td>\n",
       "      <td>2018-12-20T12:00:00-05:00</td>\n",
       "      <td>NJ</td>\n",
       "      <td>...</td>\n",
       "      <td>Closed with explanation</td>\n",
       "      <td>JPMORGAN CHASE &amp; CO.</td>\n",
       "      <td>Web</td>\n",
       "      <td>2018-12-21T12:00:00-05:00</td>\n",
       "      <td>None</td>\n",
       "      <td>Checking account</td>\n",
       "      <td>Yes</td>\n",
       "      <td>NaN</td>\n",
       "      <td>Funds not received from closed account</td>\n",
       "      <td>Consent not provided</td>\n",
       "    </tr>\n",
       "  </tbody>\n",
       "</table>\n",
       "<p>57241 rows × 22 columns</p>\n",
       "</div>"
      ],
      "text/plain": [
       "                    _index      _type      _id  _score            tags  \\\n",
       "0      complaint-public-v2  complaint  3211475     0.0            None   \n",
       "3      complaint-public-v2  complaint  2673060     0.0            None   \n",
       "4      complaint-public-v2  complaint  3203545     0.0            None   \n",
       "5      complaint-public-v2  complaint  3275312     0.0  Older American   \n",
       "6      complaint-public-v2  complaint  3238804     0.0            None   \n",
       "...                    ...        ...      ...     ...             ...   \n",
       "78304  complaint-public-v2  complaint  3080086     0.0            None   \n",
       "78305  complaint-public-v2  complaint  3103013     0.0  Older American   \n",
       "78306  complaint-public-v2  complaint  3099437     0.0            None   \n",
       "78307  complaint-public-v2  complaint  3156336     0.0            None   \n",
       "78308  complaint-public-v2  complaint  3105617     0.0            None   \n",
       "\n",
       "      zip_code complaint_id  \\\n",
       "0        90301      3211475   \n",
       "3        48066      2673060   \n",
       "4        10473      3203545   \n",
       "5        48227      3275312   \n",
       "6        76262      3238804   \n",
       "...        ...          ...   \n",
       "78304    76107      3080086   \n",
       "78305    863XX      3103013   \n",
       "78306    11217      3099437   \n",
       "78307    074XX      3156336   \n",
       "78308    08857      3105617   \n",
       "\n",
       "                                                   issue  \\\n",
       "0                      Attempts to collect debt not owed   \n",
       "3                         Trouble during payment process   \n",
       "4                                       Fees or interest   \n",
       "5                                    Managing an account   \n",
       "6                                    Managing an account   \n",
       "...                                                  ...   \n",
       "78304  Applying for a mortgage or refinancing an exis...   \n",
       "78305                                 Closing an account   \n",
       "78306                                Managing an account   \n",
       "78307  Applying for a mortgage or refinancing an exis...   \n",
       "78308                                 Closing an account   \n",
       "\n",
       "                   date_received state  ...             company_response  \\\n",
       "0      2019-04-13T12:00:00-05:00    CA  ...      Closed with explanation   \n",
       "3      2017-09-13T12:00:00-05:00    MI  ...      Closed with explanation   \n",
       "4      2019-04-05T12:00:00-05:00    NY  ...      Closed with explanation   \n",
       "5      2019-06-13T12:00:00-05:00    MI  ...  Closed with monetary relief   \n",
       "6      2019-05-10T12:00:00-05:00    TX  ...  Closed with monetary relief   \n",
       "...                          ...   ...  ...                          ...   \n",
       "78304  2018-11-22T12:00:00-05:00    TX  ...  Closed with monetary relief   \n",
       "78305  2018-12-17T12:00:00-05:00    AZ  ...      Closed with explanation   \n",
       "78306  2018-12-12T12:00:00-05:00    NY  ...      Closed with explanation   \n",
       "78307  2019-02-19T12:00:00-05:00    NJ  ...      Closed with explanation   \n",
       "78308  2018-12-20T12:00:00-05:00    NJ  ...      Closed with explanation   \n",
       "\n",
       "                    company submitted_via       date_sent_to_company  \\\n",
       "0      JPMORGAN CHASE & CO.           Web  2019-04-13T12:00:00-05:00   \n",
       "3      JPMORGAN CHASE & CO.           Web  2017-09-14T12:00:00-05:00   \n",
       "4      JPMORGAN CHASE & CO.      Referral  2019-04-05T12:00:00-05:00   \n",
       "5      JPMORGAN CHASE & CO.      Referral  2019-06-14T12:00:00-05:00   \n",
       "6      JPMORGAN CHASE & CO.         Phone  2019-05-10T12:00:00-05:00   \n",
       "...                     ...           ...                        ...   \n",
       "78304  JPMORGAN CHASE & CO.           Web  2018-11-22T12:00:00-05:00   \n",
       "78305  JPMORGAN CHASE & CO.           Web  2018-12-18T12:00:00-05:00   \n",
       "78306  JPMORGAN CHASE & CO.      Referral  2018-12-18T12:00:00-05:00   \n",
       "78307  JPMORGAN CHASE & CO.           Web  2019-02-19T12:00:00-05:00   \n",
       "78308  JPMORGAN CHASE & CO.           Web  2018-12-21T12:00:00-05:00   \n",
       "\n",
       "      company_public_response                                 sub_product  \\\n",
       "0                        None                            Credit card debt   \n",
       "3                        None                  Conventional home mortgage   \n",
       "4                        None  General-purpose credit card or charge card   \n",
       "5                        None                            Checking account   \n",
       "6                        None                            Checking account   \n",
       "...                       ...                                         ...   \n",
       "78304                    None                  Conventional home mortgage   \n",
       "78305                    None            Other banking product or service   \n",
       "78306                    None                            Checking account   \n",
       "78307                    None                  Conventional home mortgage   \n",
       "78308                    None                            Checking account   \n",
       "\n",
       "      timely complaint_original                               sub_issue  \\\n",
       "0        Yes                NaN                       Debt is not yours   \n",
       "3        Yes                NaN                                    None   \n",
       "4        Yes                NaN               Charged too much interest   \n",
       "5        Yes                NaN       Problem using a debit or ATM card   \n",
       "6        Yes                NaN       Problem using a debit or ATM card   \n",
       "...      ...                ...                                     ...   \n",
       "78304    Yes                NaN                                    None   \n",
       "78305    Yes                NaN  Funds not received from closed account   \n",
       "78306    Yes                NaN                Deposits and withdrawals   \n",
       "78307    Yes                NaN                                    None   \n",
       "78308    Yes                NaN  Funds not received from closed account   \n",
       "\n",
       "      consumer_consent_provided  \n",
       "0          Consent not provided  \n",
       "3          Consent not provided  \n",
       "4                           N/A  \n",
       "5                           N/A  \n",
       "6                           N/A  \n",
       "...                         ...  \n",
       "78304                     Other  \n",
       "78305      Consent not provided  \n",
       "78306                       N/A  \n",
       "78307                     Other  \n",
       "78308      Consent not provided  \n",
       "\n",
       "[57241 rows x 22 columns]"
      ]
     },
     "execution_count": 9,
     "metadata": {},
     "output_type": "execute_result"
    }
   ],
   "source": [
    "#Assign nan in place of blanks in the complaints column\n",
    "df['complaint_original'] = df['complaint_original'].replace(r'^$',np.nan,regex=True)\n",
    "df[df['complaint_original'].isna()]"
   ]
  },
  {
   "cell_type": "code",
   "execution_count": 10,
   "metadata": {
    "id": "Jfxd8VSmJrFy"
   },
   "outputs": [
    {
     "data": {
      "text/html": [
       "<div>\n",
       "<style scoped>\n",
       "    .dataframe tbody tr th:only-of-type {\n",
       "        vertical-align: middle;\n",
       "    }\n",
       "\n",
       "    .dataframe tbody tr th {\n",
       "        vertical-align: top;\n",
       "    }\n",
       "\n",
       "    .dataframe thead th {\n",
       "        text-align: right;\n",
       "    }\n",
       "</style>\n",
       "<table border=\"1\" class=\"dataframe\">\n",
       "  <thead>\n",
       "    <tr style=\"text-align: right;\">\n",
       "      <th></th>\n",
       "      <th>_index</th>\n",
       "      <th>_type</th>\n",
       "      <th>_id</th>\n",
       "      <th>_score</th>\n",
       "      <th>tags</th>\n",
       "      <th>zip_code</th>\n",
       "      <th>complaint_id</th>\n",
       "      <th>issue</th>\n",
       "      <th>date_received</th>\n",
       "      <th>state</th>\n",
       "      <th>...</th>\n",
       "      <th>company_response</th>\n",
       "      <th>company</th>\n",
       "      <th>submitted_via</th>\n",
       "      <th>date_sent_to_company</th>\n",
       "      <th>company_public_response</th>\n",
       "      <th>sub_product</th>\n",
       "      <th>timely</th>\n",
       "      <th>complaint_original</th>\n",
       "      <th>sub_issue</th>\n",
       "      <th>consumer_consent_provided</th>\n",
       "    </tr>\n",
       "  </thead>\n",
       "  <tbody>\n",
       "    <tr>\n",
       "      <th>0</th>\n",
       "      <td>complaint-public-v2</td>\n",
       "      <td>complaint</td>\n",
       "      <td>3229299</td>\n",
       "      <td>0.0</td>\n",
       "      <td>Servicemember</td>\n",
       "      <td>319XX</td>\n",
       "      <td>3229299</td>\n",
       "      <td>Written notification about debt</td>\n",
       "      <td>2019-05-01T12:00:00-05:00</td>\n",
       "      <td>GA</td>\n",
       "      <td>...</td>\n",
       "      <td>Closed with explanation</td>\n",
       "      <td>JPMORGAN CHASE &amp; CO.</td>\n",
       "      <td>Web</td>\n",
       "      <td>2019-05-01T12:00:00-05:00</td>\n",
       "      <td>None</td>\n",
       "      <td>Credit card debt</td>\n",
       "      <td>Yes</td>\n",
       "      <td>Good morning my name is XXXX XXXX and I apprec...</td>\n",
       "      <td>Didn't receive enough information to verify debt</td>\n",
       "      <td>Consent provided</td>\n",
       "    </tr>\n",
       "    <tr>\n",
       "      <th>1</th>\n",
       "      <td>complaint-public-v2</td>\n",
       "      <td>complaint</td>\n",
       "      <td>3199379</td>\n",
       "      <td>0.0</td>\n",
       "      <td>None</td>\n",
       "      <td>77069</td>\n",
       "      <td>3199379</td>\n",
       "      <td>Other features, terms, or problems</td>\n",
       "      <td>2019-04-02T12:00:00-05:00</td>\n",
       "      <td>TX</td>\n",
       "      <td>...</td>\n",
       "      <td>Closed with explanation</td>\n",
       "      <td>JPMORGAN CHASE &amp; CO.</td>\n",
       "      <td>Web</td>\n",
       "      <td>2019-04-02T12:00:00-05:00</td>\n",
       "      <td>None</td>\n",
       "      <td>General-purpose credit card or charge card</td>\n",
       "      <td>Yes</td>\n",
       "      <td>I upgraded my XXXX XXXX card in XX/XX/2018 and...</td>\n",
       "      <td>Problem with rewards from credit card</td>\n",
       "      <td>Consent provided</td>\n",
       "    </tr>\n",
       "    <tr>\n",
       "      <th>2</th>\n",
       "      <td>complaint-public-v2</td>\n",
       "      <td>complaint</td>\n",
       "      <td>3233499</td>\n",
       "      <td>0.0</td>\n",
       "      <td>None</td>\n",
       "      <td>104XX</td>\n",
       "      <td>3233499</td>\n",
       "      <td>Incorrect information on your report</td>\n",
       "      <td>2019-05-06T12:00:00-05:00</td>\n",
       "      <td>NY</td>\n",
       "      <td>...</td>\n",
       "      <td>Closed with explanation</td>\n",
       "      <td>JPMORGAN CHASE &amp; CO.</td>\n",
       "      <td>Web</td>\n",
       "      <td>2019-05-06T12:00:00-05:00</td>\n",
       "      <td>None</td>\n",
       "      <td>Other personal consumer report</td>\n",
       "      <td>Yes</td>\n",
       "      <td>Chase Card was reported on XX/XX/2019. However...</td>\n",
       "      <td>Information belongs to someone else</td>\n",
       "      <td>Consent provided</td>\n",
       "    </tr>\n",
       "    <tr>\n",
       "      <th>3</th>\n",
       "      <td>complaint-public-v2</td>\n",
       "      <td>complaint</td>\n",
       "      <td>3180294</td>\n",
       "      <td>0.0</td>\n",
       "      <td>None</td>\n",
       "      <td>750XX</td>\n",
       "      <td>3180294</td>\n",
       "      <td>Incorrect information on your report</td>\n",
       "      <td>2019-03-14T12:00:00-05:00</td>\n",
       "      <td>TX</td>\n",
       "      <td>...</td>\n",
       "      <td>Closed with explanation</td>\n",
       "      <td>JPMORGAN CHASE &amp; CO.</td>\n",
       "      <td>Web</td>\n",
       "      <td>2019-03-15T12:00:00-05:00</td>\n",
       "      <td>None</td>\n",
       "      <td>Credit reporting</td>\n",
       "      <td>Yes</td>\n",
       "      <td>On XX/XX/2018, while trying to book a XXXX  XX...</td>\n",
       "      <td>Information belongs to someone else</td>\n",
       "      <td>Consent provided</td>\n",
       "    </tr>\n",
       "    <tr>\n",
       "      <th>4</th>\n",
       "      <td>complaint-public-v2</td>\n",
       "      <td>complaint</td>\n",
       "      <td>3224980</td>\n",
       "      <td>0.0</td>\n",
       "      <td>None</td>\n",
       "      <td>920XX</td>\n",
       "      <td>3224980</td>\n",
       "      <td>Managing an account</td>\n",
       "      <td>2019-04-27T12:00:00-05:00</td>\n",
       "      <td>CA</td>\n",
       "      <td>...</td>\n",
       "      <td>Closed with explanation</td>\n",
       "      <td>JPMORGAN CHASE &amp; CO.</td>\n",
       "      <td>Web</td>\n",
       "      <td>2019-04-27T12:00:00-05:00</td>\n",
       "      <td>None</td>\n",
       "      <td>Checking account</td>\n",
       "      <td>Yes</td>\n",
       "      <td>my grand son give me check for {$1600.00} i de...</td>\n",
       "      <td>Funds not handled or disbursed as instructed</td>\n",
       "      <td>Consent provided</td>\n",
       "    </tr>\n",
       "    <tr>\n",
       "      <th>...</th>\n",
       "      <td>...</td>\n",
       "      <td>...</td>\n",
       "      <td>...</td>\n",
       "      <td>...</td>\n",
       "      <td>...</td>\n",
       "      <td>...</td>\n",
       "      <td>...</td>\n",
       "      <td>...</td>\n",
       "      <td>...</td>\n",
       "      <td>...</td>\n",
       "      <td>...</td>\n",
       "      <td>...</td>\n",
       "      <td>...</td>\n",
       "      <td>...</td>\n",
       "      <td>...</td>\n",
       "      <td>...</td>\n",
       "      <td>...</td>\n",
       "      <td>...</td>\n",
       "      <td>...</td>\n",
       "      <td>...</td>\n",
       "      <td>...</td>\n",
       "    </tr>\n",
       "    <tr>\n",
       "      <th>21067</th>\n",
       "      <td>complaint-public-v2</td>\n",
       "      <td>complaint</td>\n",
       "      <td>3094545</td>\n",
       "      <td>0.0</td>\n",
       "      <td>Older American</td>\n",
       "      <td>281XX</td>\n",
       "      <td>3094545</td>\n",
       "      <td>Advertising and marketing, including promotion...</td>\n",
       "      <td>2018-12-07T12:00:00-05:00</td>\n",
       "      <td>NC</td>\n",
       "      <td>...</td>\n",
       "      <td>Closed with explanation</td>\n",
       "      <td>JPMORGAN CHASE &amp; CO.</td>\n",
       "      <td>Web</td>\n",
       "      <td>2018-12-07T12:00:00-05:00</td>\n",
       "      <td>None</td>\n",
       "      <td>General-purpose credit card or charge card</td>\n",
       "      <td>Yes</td>\n",
       "      <td>After being a Chase Card customer for well ove...</td>\n",
       "      <td>Didn't receive advertised or promotional terms</td>\n",
       "      <td>Consent provided</td>\n",
       "    </tr>\n",
       "    <tr>\n",
       "      <th>21068</th>\n",
       "      <td>complaint-public-v2</td>\n",
       "      <td>complaint</td>\n",
       "      <td>3091984</td>\n",
       "      <td>0.0</td>\n",
       "      <td>None</td>\n",
       "      <td>934XX</td>\n",
       "      <td>3091984</td>\n",
       "      <td>Other features, terms, or problems</td>\n",
       "      <td>2018-12-05T12:00:00-05:00</td>\n",
       "      <td>CA</td>\n",
       "      <td>...</td>\n",
       "      <td>Closed with monetary relief</td>\n",
       "      <td>JPMORGAN CHASE &amp; CO.</td>\n",
       "      <td>Web</td>\n",
       "      <td>2018-12-05T12:00:00-05:00</td>\n",
       "      <td>None</td>\n",
       "      <td>General-purpose credit card or charge card</td>\n",
       "      <td>Yes</td>\n",
       "      <td>On Wednesday, XX/XX/XXXX I called Chas, my XXX...</td>\n",
       "      <td>Other problem</td>\n",
       "      <td>Consent provided</td>\n",
       "    </tr>\n",
       "    <tr>\n",
       "      <th>21069</th>\n",
       "      <td>complaint-public-v2</td>\n",
       "      <td>complaint</td>\n",
       "      <td>3133355</td>\n",
       "      <td>0.0</td>\n",
       "      <td>None</td>\n",
       "      <td>923XX</td>\n",
       "      <td>3133355</td>\n",
       "      <td>Problem with a lender or other company chargin...</td>\n",
       "      <td>2019-01-25T12:00:00-05:00</td>\n",
       "      <td>CA</td>\n",
       "      <td>...</td>\n",
       "      <td>Closed with explanation</td>\n",
       "      <td>JPMORGAN CHASE &amp; CO.</td>\n",
       "      <td>Web</td>\n",
       "      <td>2019-01-25T12:00:00-05:00</td>\n",
       "      <td>None</td>\n",
       "      <td>Checking account</td>\n",
       "      <td>Yes</td>\n",
       "      <td>I am not familiar with XXXX pay and did not un...</td>\n",
       "      <td>Transaction was not authorized</td>\n",
       "      <td>Consent provided</td>\n",
       "    </tr>\n",
       "    <tr>\n",
       "      <th>21070</th>\n",
       "      <td>complaint-public-v2</td>\n",
       "      <td>complaint</td>\n",
       "      <td>3110963</td>\n",
       "      <td>0.0</td>\n",
       "      <td>None</td>\n",
       "      <td>None</td>\n",
       "      <td>3110963</td>\n",
       "      <td>Other features, terms, or problems</td>\n",
       "      <td>2018-12-27T12:00:00-05:00</td>\n",
       "      <td>PA</td>\n",
       "      <td>...</td>\n",
       "      <td>Closed with monetary relief</td>\n",
       "      <td>JPMORGAN CHASE &amp; CO.</td>\n",
       "      <td>Web</td>\n",
       "      <td>2018-12-27T12:00:00-05:00</td>\n",
       "      <td>None</td>\n",
       "      <td>General-purpose credit card or charge card</td>\n",
       "      <td>Yes</td>\n",
       "      <td>I have had flawless credit for 30 yrs. I've ha...</td>\n",
       "      <td>Problem with balance transfer</td>\n",
       "      <td>Consent provided</td>\n",
       "    </tr>\n",
       "    <tr>\n",
       "      <th>21071</th>\n",
       "      <td>complaint-public-v2</td>\n",
       "      <td>complaint</td>\n",
       "      <td>2001189</td>\n",
       "      <td>0.0</td>\n",
       "      <td>None</td>\n",
       "      <td>None</td>\n",
       "      <td>2001189</td>\n",
       "      <td>Payment to acct not credited</td>\n",
       "      <td>2016-07-06T12:00:00-05:00</td>\n",
       "      <td>MI</td>\n",
       "      <td>...</td>\n",
       "      <td>Closed with explanation</td>\n",
       "      <td>JPMORGAN CHASE &amp; CO.</td>\n",
       "      <td>Web</td>\n",
       "      <td>2016-07-07T12:00:00-05:00</td>\n",
       "      <td>None</td>\n",
       "      <td>None</td>\n",
       "      <td>Yes</td>\n",
       "      <td>Roughly 10+ years ago I closed out my accounts...</td>\n",
       "      <td>None</td>\n",
       "      <td>Consent provided</td>\n",
       "    </tr>\n",
       "  </tbody>\n",
       "</table>\n",
       "<p>21072 rows × 22 columns</p>\n",
       "</div>"
      ],
      "text/plain": [
       "                    _index      _type      _id  _score            tags  \\\n",
       "0      complaint-public-v2  complaint  3229299     0.0   Servicemember   \n",
       "1      complaint-public-v2  complaint  3199379     0.0            None   \n",
       "2      complaint-public-v2  complaint  3233499     0.0            None   \n",
       "3      complaint-public-v2  complaint  3180294     0.0            None   \n",
       "4      complaint-public-v2  complaint  3224980     0.0            None   \n",
       "...                    ...        ...      ...     ...             ...   \n",
       "21067  complaint-public-v2  complaint  3094545     0.0  Older American   \n",
       "21068  complaint-public-v2  complaint  3091984     0.0            None   \n",
       "21069  complaint-public-v2  complaint  3133355     0.0            None   \n",
       "21070  complaint-public-v2  complaint  3110963     0.0            None   \n",
       "21071  complaint-public-v2  complaint  2001189     0.0            None   \n",
       "\n",
       "      zip_code complaint_id  \\\n",
       "0        319XX      3229299   \n",
       "1        77069      3199379   \n",
       "2        104XX      3233499   \n",
       "3        750XX      3180294   \n",
       "4        920XX      3224980   \n",
       "...        ...          ...   \n",
       "21067    281XX      3094545   \n",
       "21068    934XX      3091984   \n",
       "21069    923XX      3133355   \n",
       "21070     None      3110963   \n",
       "21071     None      2001189   \n",
       "\n",
       "                                                   issue  \\\n",
       "0                        Written notification about debt   \n",
       "1                     Other features, terms, or problems   \n",
       "2                   Incorrect information on your report   \n",
       "3                   Incorrect information on your report   \n",
       "4                                    Managing an account   \n",
       "...                                                  ...   \n",
       "21067  Advertising and marketing, including promotion...   \n",
       "21068                 Other features, terms, or problems   \n",
       "21069  Problem with a lender or other company chargin...   \n",
       "21070                 Other features, terms, or problems   \n",
       "21071                       Payment to acct not credited   \n",
       "\n",
       "                   date_received state  ...             company_response  \\\n",
       "0      2019-05-01T12:00:00-05:00    GA  ...      Closed with explanation   \n",
       "1      2019-04-02T12:00:00-05:00    TX  ...      Closed with explanation   \n",
       "2      2019-05-06T12:00:00-05:00    NY  ...      Closed with explanation   \n",
       "3      2019-03-14T12:00:00-05:00    TX  ...      Closed with explanation   \n",
       "4      2019-04-27T12:00:00-05:00    CA  ...      Closed with explanation   \n",
       "...                          ...   ...  ...                          ...   \n",
       "21067  2018-12-07T12:00:00-05:00    NC  ...      Closed with explanation   \n",
       "21068  2018-12-05T12:00:00-05:00    CA  ...  Closed with monetary relief   \n",
       "21069  2019-01-25T12:00:00-05:00    CA  ...      Closed with explanation   \n",
       "21070  2018-12-27T12:00:00-05:00    PA  ...  Closed with monetary relief   \n",
       "21071  2016-07-06T12:00:00-05:00    MI  ...      Closed with explanation   \n",
       "\n",
       "                    company submitted_via       date_sent_to_company  \\\n",
       "0      JPMORGAN CHASE & CO.           Web  2019-05-01T12:00:00-05:00   \n",
       "1      JPMORGAN CHASE & CO.           Web  2019-04-02T12:00:00-05:00   \n",
       "2      JPMORGAN CHASE & CO.           Web  2019-05-06T12:00:00-05:00   \n",
       "3      JPMORGAN CHASE & CO.           Web  2019-03-15T12:00:00-05:00   \n",
       "4      JPMORGAN CHASE & CO.           Web  2019-04-27T12:00:00-05:00   \n",
       "...                     ...           ...                        ...   \n",
       "21067  JPMORGAN CHASE & CO.           Web  2018-12-07T12:00:00-05:00   \n",
       "21068  JPMORGAN CHASE & CO.           Web  2018-12-05T12:00:00-05:00   \n",
       "21069  JPMORGAN CHASE & CO.           Web  2019-01-25T12:00:00-05:00   \n",
       "21070  JPMORGAN CHASE & CO.           Web  2018-12-27T12:00:00-05:00   \n",
       "21071  JPMORGAN CHASE & CO.           Web  2016-07-07T12:00:00-05:00   \n",
       "\n",
       "      company_public_response                                 sub_product  \\\n",
       "0                        None                            Credit card debt   \n",
       "1                        None  General-purpose credit card or charge card   \n",
       "2                        None              Other personal consumer report   \n",
       "3                        None                            Credit reporting   \n",
       "4                        None                            Checking account   \n",
       "...                       ...                                         ...   \n",
       "21067                    None  General-purpose credit card or charge card   \n",
       "21068                    None  General-purpose credit card or charge card   \n",
       "21069                    None                            Checking account   \n",
       "21070                    None  General-purpose credit card or charge card   \n",
       "21071                    None                                        None   \n",
       "\n",
       "      timely                                 complaint_original  \\\n",
       "0        Yes  Good morning my name is XXXX XXXX and I apprec...   \n",
       "1        Yes  I upgraded my XXXX XXXX card in XX/XX/2018 and...   \n",
       "2        Yes  Chase Card was reported on XX/XX/2019. However...   \n",
       "3        Yes  On XX/XX/2018, while trying to book a XXXX  XX...   \n",
       "4        Yes  my grand son give me check for {$1600.00} i de...   \n",
       "...      ...                                                ...   \n",
       "21067    Yes  After being a Chase Card customer for well ove...   \n",
       "21068    Yes  On Wednesday, XX/XX/XXXX I called Chas, my XXX...   \n",
       "21069    Yes  I am not familiar with XXXX pay and did not un...   \n",
       "21070    Yes  I have had flawless credit for 30 yrs. I've ha...   \n",
       "21071    Yes  Roughly 10+ years ago I closed out my accounts...   \n",
       "\n",
       "                                              sub_issue  \\\n",
       "0      Didn't receive enough information to verify debt   \n",
       "1                 Problem with rewards from credit card   \n",
       "2                   Information belongs to someone else   \n",
       "3                   Information belongs to someone else   \n",
       "4          Funds not handled or disbursed as instructed   \n",
       "...                                                 ...   \n",
       "21067    Didn't receive advertised or promotional terms   \n",
       "21068                                     Other problem   \n",
       "21069                    Transaction was not authorized   \n",
       "21070                     Problem with balance transfer   \n",
       "21071                                              None   \n",
       "\n",
       "      consumer_consent_provided  \n",
       "0              Consent provided  \n",
       "1              Consent provided  \n",
       "2              Consent provided  \n",
       "3              Consent provided  \n",
       "4              Consent provided  \n",
       "...                         ...  \n",
       "21067          Consent provided  \n",
       "21068          Consent provided  \n",
       "21069          Consent provided  \n",
       "21070          Consent provided  \n",
       "21071          Consent provided  \n",
       "\n",
       "[21072 rows x 22 columns]"
      ]
     },
     "execution_count": 10,
     "metadata": {},
     "output_type": "execute_result"
    }
   ],
   "source": [
    "#Remove all rows where complaints column is nan\n",
    "df.dropna(subset=[\"complaint_original\"],inplace=True)\n",
    "df.reset_index(drop=True)"
   ]
  },
  {
   "cell_type": "markdown",
   "metadata": {
    "id": "L944HZpsJrFy"
   },
   "source": [
    "## Prepare the text for topic modeling\n",
    "\n",
    "Once you have removed all the blank complaints, you need to:\n",
    "\n",
    "* Make the text lowercase\n",
    "* Remove text in square brackets\n",
    "* Remove punctuation\n",
    "* Remove words containing numbers\n",
    "\n",
    "\n",
    "Once you have done these cleaning operations you need to perform the following:\n",
    "* Lemmatize the texts\n",
    "* Use POS tags to get relevant words from the texts.\n"
   ]
  },
  {
   "cell_type": "code",
   "execution_count": 11,
   "metadata": {
    "id": "qm7SjjSkJrFz"
   },
   "outputs": [
    {
     "data": {
      "application/vnd.jupyter.widget-view+json": {
       "model_id": "aec394bff0074bb5bad14bd6d15f2d34",
       "version_major": 2,
       "version_minor": 0
      },
      "text/plain": [
       "  0%|          | 0/21072 [00:00<?, ?it/s]"
      ]
     },
     "metadata": {},
     "output_type": "display_data"
    }
   ],
   "source": [
    "# # Write your function here to clean the text and remove all the unnecessary elements.\n",
    "from tqdm.notebook import tqdm\n",
    "tqdm.pandas()\n",
    "\n",
    "df['complaint_clean'] = df['complaint_original'].str.lower()\n",
    "df['complaint_clean'] = df['complaint_clean'].replace(regex=[r'\\{(.*?)\\}',r'\\((.*?)\\)',r'\\w*\\d\\w*'], value=\"\")\n",
    "\n",
    "punctuation = list(set(string.punctuation))\n",
    "\n",
    "\n",
    "def whitespace_tokenizer(text): \n",
    "    pattern = r\"(?u)\\b\\w\\w+\\b\" \n",
    "    tokenizer_regex = RegexpTokenizer(pattern)\n",
    "    tokens = tokenizer_regex.tokenize(text)\n",
    "    return tokens\n",
    "\n",
    "def process(text):\n",
    "    text = whitespace_tokenizer(text)\n",
    "    text = [w for w in text if w not in punctuation]\n",
    "    return text\n",
    "\n",
    "df['complaint_clean'] = df['complaint_clean'].progress_apply(process)"
   ]
  },
  {
   "cell_type": "code",
   "execution_count": 12,
   "metadata": {
    "id": "zgOu8t8HJrFz"
   },
   "outputs": [
    {
     "data": {
      "application/vnd.jupyter.widget-view+json": {
       "model_id": "81fb2d3456ae41de834d2b76e3bce488",
       "version_major": 2,
       "version_minor": 0
      },
      "text/plain": [
       "  0%|          | 0/21072 [00:00<?, ?it/s]"
      ]
     },
     "metadata": {},
     "output_type": "display_data"
    }
   ],
   "source": [
    "#Write your function to Lemmatize the texts\n",
    "nlp = spacy.load('en_core_web_sm', disable=['parser', 'ner'])\n",
    "\n",
    "def lemetize(texts,allowed_postags=['NOUN']):\n",
    "    doc = nlp(\" \".join(texts))\n",
    "    return ' '.join([token.lemma_ for token in doc if token.pos_ in allowed_postags])\n",
    "\n",
    "df['complaint_clean'] = df['complaint_clean'].progress_apply(lemetize)"
   ]
  },
  {
   "cell_type": "code",
   "execution_count": 13,
   "metadata": {},
   "outputs": [],
   "source": [
    "df = df.reset_index(drop=True)"
   ]
  },
  {
   "cell_type": "code",
   "execution_count": 14,
   "metadata": {
    "id": "uXnN7aa_JrF0"
   },
   "outputs": [],
   "source": [
    "#Create a dataframe('df_clean') that will have only the complaints and the lemmatized complaints \n",
    "df_clean = df[[\"complaint_clean\",\"complaint_original\"]]"
   ]
  },
  {
   "cell_type": "code",
   "execution_count": 15,
   "metadata": {
    "id": "nOiDVvEIJrF0"
   },
   "outputs": [
    {
     "data": {
      "text/html": [
       "<div>\n",
       "<style scoped>\n",
       "    .dataframe tbody tr th:only-of-type {\n",
       "        vertical-align: middle;\n",
       "    }\n",
       "\n",
       "    .dataframe tbody tr th {\n",
       "        vertical-align: top;\n",
       "    }\n",
       "\n",
       "    .dataframe thead th {\n",
       "        text-align: right;\n",
       "    }\n",
       "</style>\n",
       "<table border=\"1\" class=\"dataframe\">\n",
       "  <thead>\n",
       "    <tr style=\"text-align: right;\">\n",
       "      <th></th>\n",
       "      <th>complaint_clean</th>\n",
       "      <th>complaint_original</th>\n",
       "    </tr>\n",
       "  </thead>\n",
       "  <tbody>\n",
       "    <tr>\n",
       "      <th>0</th>\n",
       "      <td>morning name xxxx xxxx stop bank cardmember se...</td>\n",
       "      <td>Good morning my name is XXXX XXXX and I apprec...</td>\n",
       "    </tr>\n",
       "    <tr>\n",
       "      <th>1</th>\n",
       "      <td>card agent anniversary date agent information ...</td>\n",
       "      <td>I upgraded my XXXX XXXX card in XX/XX/2018 and...</td>\n",
       "    </tr>\n",
       "    <tr>\n",
       "      <th>2</th>\n",
       "      <td>card application identity consent service cred...</td>\n",
       "      <td>Chase Card was reported on XX/XX/2019. However...</td>\n",
       "    </tr>\n",
       "    <tr>\n",
       "      <th>3</th>\n",
       "      <td>xxxx ticket offer ticket reward card informati...</td>\n",
       "      <td>On XX/XX/2018, while trying to book a XXXX  XX...</td>\n",
       "    </tr>\n",
       "    <tr>\n",
       "      <th>4</th>\n",
       "      <td>son check deposit chase account fund chase acc...</td>\n",
       "      <td>my grand son give me check for {$1600.00} i de...</td>\n",
       "    </tr>\n",
       "  </tbody>\n",
       "</table>\n",
       "</div>"
      ],
      "text/plain": [
       "                                     complaint_clean  \\\n",
       "0  morning name xxxx xxxx stop bank cardmember se...   \n",
       "1  card agent anniversary date agent information ...   \n",
       "2  card application identity consent service cred...   \n",
       "3  xxxx ticket offer ticket reward card informati...   \n",
       "4  son check deposit chase account fund chase acc...   \n",
       "\n",
       "                                  complaint_original  \n",
       "0  Good morning my name is XXXX XXXX and I apprec...  \n",
       "1  I upgraded my XXXX XXXX card in XX/XX/2018 and...  \n",
       "2  Chase Card was reported on XX/XX/2019. However...  \n",
       "3  On XX/XX/2018, while trying to book a XXXX  XX...  \n",
       "4  my grand son give me check for {$1600.00} i de...  "
      ]
     },
     "execution_count": 15,
     "metadata": {},
     "output_type": "execute_result"
    }
   ],
   "source": [
    "df_clean.head(5)"
   ]
  },
  {
   "cell_type": "markdown",
   "metadata": {
    "id": "_7Un1AElJrF2"
   },
   "source": [
    "## Exploratory data analysis to get familiar with the data.\n",
    "\n",
    "Write the code in this task to perform the following:\n",
    "\n",
    "*   Visualise the data according to the 'Complaint' character length\n",
    "*   Using a word cloud find the top 40 words by frequency among all the articles after processing the text\n",
    "*   Find the top unigrams,bigrams and trigrams by frequency among all the complaints after processing the text. ‘\n",
    "\n",
    "\n"
   ]
  },
  {
   "cell_type": "code",
   "execution_count": 16,
   "metadata": {
    "id": "q-zaqJF6JrF2"
   },
   "outputs": [
    {
     "data": {
      "application/vnd.jupyter.widget-view+json": {
       "model_id": "df07f9e728994e35a4a62b2c89ae66bf",
       "version_major": 2,
       "version_minor": 0
      },
      "text/plain": [
       "  0%|          | 0/21072 [00:00<?, ?it/s]"
      ]
     },
     "metadata": {},
     "output_type": "display_data"
    },
    {
     "name": "stderr",
     "output_type": "stream",
     "text": [
      "<ipython-input-16-c431a473cbbd>:1: SettingWithCopyWarning:\n",
      "\n",
      "\n",
      "A value is trying to be set on a copy of a slice from a DataFrame.\n",
      "Try using .loc[row_indexer,col_indexer] = value instead\n",
      "\n",
      "See the caveats in the documentation: https://pandas.pydata.org/pandas-docs/stable/user_guide/indexing.html#returning-a-view-versus-a-copy\n",
      "\n"
     ]
    }
   ],
   "source": [
    "df_clean[\"complaint_length\"] = df_clean[\"complaint_clean\"].progress_apply(lambda x: len(x))"
   ]
  },
  {
   "cell_type": "code",
   "execution_count": 17,
   "metadata": {},
   "outputs": [
    {
     "data": {
      "text/plain": [
       "count    21072.000000\n",
       "mean       378.493546\n",
       "std        431.626970\n",
       "min          0.000000\n",
       "25%        141.000000\n",
       "50%        266.000000\n",
       "75%        475.000000\n",
       "max      11562.000000\n",
       "Name: complaint_length, dtype: float64"
      ]
     },
     "execution_count": 17,
     "metadata": {},
     "output_type": "execute_result"
    }
   ],
   "source": [
    "df_clean['complaint_length'].describe()"
   ]
  },
  {
   "cell_type": "code",
   "execution_count": 18,
   "metadata": {
    "scrolled": false
   },
   "outputs": [
    {
     "data": {
      "image/png": "[encoded data removed]",
      "text/plain": [
       "<Figure size 1440x720 with 2 Axes>"
      ]
     },
     "metadata": {
      "needs_background": "light"
     },
     "output_type": "display_data"
    }
   ],
   "source": [
    "fig, (ax1, ax2) = plt.subplots(1, 2, figsize=(20, 10))\n",
    "sns.histplot(data=df_clean, x=\"complaint_length\", binwidth=20,ax=ax1)\n",
    "sns.boxplot(x=df_clean[\"complaint_length\"],ax=ax2)\n",
    "plt.show()"
   ]
  },
  {
   "cell_type": "markdown",
   "metadata": {
    "id": "T9jD_6SeJrF3"
   },
   "source": [
    "#### Find the top 40 words by frequency among all the articles after processing the text."
   ]
  },
  {
   "cell_type": "code",
   "execution_count": null,
   "metadata": {},
   "outputs": [],
   "source": []
  },
  {
   "cell_type": "code",
   "execution_count": 19,
   "metadata": {
    "id": "QcfdvtfZJrF3"
   },
   "outputs": [
    {
     "data": {
      "image/png": "[encoded data removed]",
      "text/plain": [
       "<Figure size 432x288 with 1 Axes>"
      ]
     },
     "metadata": {
      "needs_background": "light"
     },
     "output_type": "display_data"
    }
   ],
   "source": [
    "#Using a word cloud find the top 40 words by frequency among all the articles after processing the text\n",
    "from wordcloud import WordCloud\n",
    "\n",
    "complaint_list = df_clean['complaint_clean'].tolist()\n",
    "wordcloud = WordCloud(background_color = 'black', width = 800, height = 400,\n",
    "                      colormap = 'viridis', max_words = 180, contour_width = 3,\n",
    "                      max_font_size = 80, contour_color = 'steelblue',\n",
    "                      random_state = 0)\n",
    "complain_text = ' '.join([s for s in complaint_list])\n",
    "wordcloud.generate(complain_text)\n",
    "plt.imshow(wordcloud)\n",
    "plt.show()"
   ]
  },
  {
   "cell_type": "code",
   "execution_count": 20,
   "metadata": {},
   "outputs": [
    {
     "name": "stdout",
     "output_type": "stream",
     "text": [
      "['xxxx xxxx', 'credit card', 'chase', 'time', 'information', 'credit report', 'issue', 'month', 'bank', 'letter', 'account xxxx', 'customer service', 'xxxx chase', 'company', 'year', 'chase credit', 'account chase', 'chase account', 'day', 'week', 'document', 'money', 'payment', 'account account', 'person', 'charge', 'complaint', 'way', 'xxxx account', 'case', 'request', 'problem', 'fact', 'transaction', 'situation', 'claim', 'checking account', 'bank account', 'amount', 'chase xxxx']\n"
     ]
    }
   ],
   "source": [
    "# Top 40 words\n",
    "print(list(wordcloud.words_.keys())[:40])"
   ]
  },
  {
   "cell_type": "markdown",
   "metadata": {
    "id": "5DfCSbbmJrF4"
   },
   "source": [
    "#### Find the top unigrams,bigrams and trigrams by frequency among all the complaints after processing the text."
   ]
  },
  {
   "cell_type": "code",
   "execution_count": 21,
   "metadata": {
    "id": "5mbk5DS5JrF4"
   },
   "outputs": [],
   "source": [
    "#Write your code here to find the top 30 unigram frequency among the complaints in the cleaned datafram(df_clean). \n",
    "def compute_freq(sentence, n_value=1):\n",
    "    tokens = nltk.word_tokenize(sentence)\n",
    "    ngrams = nltk.ngrams(tokens, n_value)\n",
    "    ngram_fdist = nltk.FreqDist(ngrams)\n",
    "    return ngram_fdist\n",
    "result = compute_freq(complain_text)"
   ]
  },
  {
   "cell_type": "code",
   "execution_count": 22,
   "metadata": {
    "id": "YX7fedm1JrF8"
   },
   "outputs": [
    {
     "data": {
      "text/plain": [
       "[(('xxxx',), 88283),\n",
       " (('chase',), 48436),\n",
       " (('account',), 46565),\n",
       " (('credit',), 32222),\n",
       " (('card',), 29450),\n",
       " (('payment',), 20968),\n",
       " (('bank',), 16846),\n",
       " (('time',), 15932),\n",
       " (('day',), 12861),\n",
       " (('charge',), 11974)]"
      ]
     },
     "execution_count": 22,
     "metadata": {},
     "output_type": "execute_result"
    }
   ],
   "source": [
    "#Print the top 10 words in the unigram frequency\n",
    "result.most_common(10)"
   ]
  },
  {
   "cell_type": "code",
   "execution_count": 23,
   "metadata": {
    "id": "aV7kD7w8JrF8"
   },
   "outputs": [],
   "source": [
    "#Write your code here to find the top 30 bigram frequency among the complaints in the cleaned datafram(df_clean). \n",
    "result = compute_freq(complain_text,2)"
   ]
  },
  {
   "cell_type": "code",
   "execution_count": 24,
   "metadata": {
    "id": "NPnMNIpyJrF9"
   },
   "outputs": [
    {
     "data": {
      "text/plain": [
       "[(('xxxx', 'xxxx'), 23872),\n",
       " (('credit', 'card'), 12655),\n",
       " (('credit', 'report'), 3819),\n",
       " (('account', 'xxxx'), 3267),\n",
       " (('customer', 'service'), 3054),\n",
       " (('xxxx', 'chase'), 3050),\n",
       " (('chase', 'credit'), 2975),\n",
       " (('account', 'chase'), 2901),\n",
       " (('chase', 'account'), 2856),\n",
       " (('account', 'account'), 2511)]"
      ]
     },
     "execution_count": 24,
     "metadata": {},
     "output_type": "execute_result"
    }
   ],
   "source": [
    "#Print the top 10 words in the bigram frequency\n",
    "result.most_common(10)"
   ]
  },
  {
   "cell_type": "code",
   "execution_count": 25,
   "metadata": {
    "id": "Xkh7vtbtJrF-"
   },
   "outputs": [],
   "source": [
    "#Write your code here to find the top 30 trigram frequency among the complaints in the cleaned datafram(df_clean). \n",
    "result = compute_freq(complain_text,3)"
   ]
  },
  {
   "cell_type": "code",
   "execution_count": 26,
   "metadata": {
    "id": "REcVxNfvJrF-"
   },
   "outputs": [
    {
     "data": {
      "text/plain": [
       "[(('xxxx', 'xxxx', 'xxxx'), 6430),\n",
       " (('chase', 'credit', 'card'), 2055),\n",
       " (('_', '_', '_'), 1032),\n",
       " (('credit', 'card', 'company'), 980),\n",
       " (('credit', 'card', 'account'), 968),\n",
       " (('xxxx', 'xxxx', 'chase'), 782),\n",
       " (('xxxx', 'credit', 'card'), 775),\n",
       " (('account', 'xxxx', 'xxxx'), 771),\n",
       " (('credit', 'card', 'xxxx'), 728),\n",
       " (('credit', 'card', 'chase'), 617)]"
      ]
     },
     "execution_count": 26,
     "metadata": {},
     "output_type": "execute_result"
    }
   ],
   "source": [
    "#Print the top 10 words in the trigram frequency\n",
    "result.most_common(10)"
   ]
  },
  {
   "cell_type": "markdown",
   "metadata": {
    "id": "yUXzFji0JrF_"
   },
   "source": [
    "## The personal details of customer has been masked in the dataset with xxxx. Let's remove the masked text as this will be of no use for our analysis"
   ]
  },
  {
   "cell_type": "code",
   "execution_count": 27,
   "metadata": {
    "id": "wKda-a_IJrF_"
   },
   "outputs": [
    {
     "name": "stderr",
     "output_type": "stream",
     "text": [
      "<ipython-input-27-f268c7318941>:1: SettingWithCopyWarning:\n",
      "\n",
      "\n",
      "A value is trying to be set on a copy of a slice from a DataFrame.\n",
      "Try using .loc[row_indexer,col_indexer] = value instead\n",
      "\n",
      "See the caveats in the documentation: https://pandas.pydata.org/pandas-docs/stable/user_guide/indexing.html#returning-a-view-versus-a-copy\n",
      "\n"
     ]
    }
   ],
   "source": [
    "df_clean['complaint_clean'] = df_clean['complaint_clean'].replace(regex=r'x{2,}', value=\"\")"
   ]
  },
  {
   "cell_type": "code",
   "execution_count": 28,
   "metadata": {
    "id": "9UIFk8fQJrF_"
   },
   "outputs": [
    {
     "data": {
      "text/html": [
       "<div>\n",
       "<style scoped>\n",
       "    .dataframe tbody tr th:only-of-type {\n",
       "        vertical-align: middle;\n",
       "    }\n",
       "\n",
       "    .dataframe tbody tr th {\n",
       "        vertical-align: top;\n",
       "    }\n",
       "\n",
       "    .dataframe thead th {\n",
       "        text-align: right;\n",
       "    }\n",
       "</style>\n",
       "<table border=\"1\" class=\"dataframe\">\n",
       "  <thead>\n",
       "    <tr style=\"text-align: right;\">\n",
       "      <th></th>\n",
       "      <th>complaint_clean</th>\n",
       "      <th>complaint_original</th>\n",
       "      <th>complaint_length</th>\n",
       "    </tr>\n",
       "  </thead>\n",
       "  <tbody>\n",
       "    <tr>\n",
       "      <th>0</th>\n",
       "      <td>morning name   stop bank cardmember service de...</td>\n",
       "      <td>Good morning my name is XXXX XXXX and I apprec...</td>\n",
       "      <td>151</td>\n",
       "    </tr>\n",
       "    <tr>\n",
       "      <th>1</th>\n",
       "      <td>card agent anniversary date agent information ...</td>\n",
       "      <td>I upgraded my XXXX XXXX card in XX/XX/2018 and...</td>\n",
       "      <td>120</td>\n",
       "    </tr>\n",
       "    <tr>\n",
       "      <th>2</th>\n",
       "      <td>card application identity consent service cred...</td>\n",
       "      <td>Chase Card was reported on XX/XX/2019. However...</td>\n",
       "      <td>67</td>\n",
       "    </tr>\n",
       "    <tr>\n",
       "      <th>3</th>\n",
       "      <td>ticket offer ticket reward card information o...</td>\n",
       "      <td>On XX/XX/2018, while trying to book a XXXX  XX...</td>\n",
       "      <td>368</td>\n",
       "    </tr>\n",
       "    <tr>\n",
       "      <th>4</th>\n",
       "      <td>son check deposit chase account fund chase acc...</td>\n",
       "      <td>my grand son give me check for {$1600.00} i de...</td>\n",
       "      <td>165</td>\n",
       "    </tr>\n",
       "  </tbody>\n",
       "</table>\n",
       "</div>"
      ],
      "text/plain": [
       "                                     complaint_clean  \\\n",
       "0  morning name   stop bank cardmember service de...   \n",
       "1  card agent anniversary date agent information ...   \n",
       "2  card application identity consent service cred...   \n",
       "3   ticket offer ticket reward card information o...   \n",
       "4  son check deposit chase account fund chase acc...   \n",
       "\n",
       "                                  complaint_original  complaint_length  \n",
       "0  Good morning my name is XXXX XXXX and I apprec...               151  \n",
       "1  I upgraded my XXXX XXXX card in XX/XX/2018 and...               120  \n",
       "2  Chase Card was reported on XX/XX/2019. However...                67  \n",
       "3  On XX/XX/2018, while trying to book a XXXX  XX...               368  \n",
       "4  my grand son give me check for {$1600.00} i de...               165  "
      ]
     },
     "execution_count": 28,
     "metadata": {},
     "output_type": "execute_result"
    }
   ],
   "source": [
    "#All masked texts has been removed\n",
    "df_clean.head()"
   ]
  },
  {
   "cell_type": "code",
   "execution_count": 29,
   "metadata": {},
   "outputs": [],
   "source": [
    "complaint_list = df_clean['complaint_clean'].tolist()"
   ]
  },
  {
   "cell_type": "markdown",
   "metadata": {
    "id": "k-I0k0QtJrGA"
   },
   "source": [
    "## Feature Extraction\n",
    "Convert the raw texts to a matrix of TF-IDF features\n",
    "\n",
    "**max_df** is used for removing terms that appear too frequently, also known as \"corpus-specific stop words\"\n",
    "max_df = 0.95 means \"ignore terms that appear in more than 95% of the complaints\"\n",
    "\n",
    "**min_df** is used for removing terms that appear too infrequently\n",
    "min_df = 2 means \"ignore terms that appear in less than 2 complaints\""
   ]
  },
  {
   "cell_type": "code",
   "execution_count": 30,
   "metadata": {
    "id": "Y8fGwaCPJrGA"
   },
   "outputs": [],
   "source": [
    "#Write your code here to initialise the TfidfVectorizer \n",
    "tfidf_vectorizer = TfidfVectorizer(\n",
    "    min_df=2,\n",
    "    max_df=0.95,\n",
    "    ngram_range=(1, 2)\n",
    ")"
   ]
  },
  {
   "cell_type": "markdown",
   "metadata": {
    "id": "yYzD85nTJrGA"
   },
   "source": [
    "#### Create a document term matrix using fit_transform\n",
    "\n",
    "The contents of a document term matrix are tuples of (complaint_id,token_id) tf-idf score:\n",
    "The tuples that are not there have a tf-idf score of 0"
   ]
  },
  {
   "cell_type": "code",
   "execution_count": 31,
   "metadata": {
    "id": "ffzdDpp_JrGB"
   },
   "outputs": [],
   "source": [
    "#Write your code here to create the Document Term Matrix by transforming the complaints column present in df_clean.\n",
    "tfidf = tfidf_vectorizer.fit_transform(complaint_list)"
   ]
  },
  {
   "cell_type": "code",
   "execution_count": 32,
   "metadata": {},
   "outputs": [
    {
     "name": "stdout",
     "output_type": "stream",
     "text": [
      "  (0, 2820)\t0.21151522166334566\n",
      "  (0, 82666)\t0.20574749103344062\n",
      "  (0, 17041)\t0.2212001570891734\n",
      "  (0, 21562)\t0.17193019614159485\n",
      "  (0, 42830)\t0.17024020715895538\n",
      "  (0, 26656)\t0.19055460228071155\n",
      "  (0, 54287)\t0.20574749103344062\n",
      "  (0, 50245)\t0.2010349119720286\n",
      "  (0, 26685)\t0.2547835352345283\n",
      "  (0, 8296)\t0.19280363964368977\n",
      "  (0, 79698)\t0.1744987384884664\n",
      "  (0, 87785)\t0.2547835352345283\n",
      "  (0, 26814)\t0.22366369878760722\n",
      "  (0, 76970)\t0.2212001570891734\n",
      "  (0, 13850)\t0.17960001095093522\n",
      "  (0, 55811)\t0.24157990654177375\n",
      "  (0, 54790)\t0.22366369878760722\n",
      "  (0, 39479)\t0.0984937090156504\n",
      "  (0, 2783)\t0.1286400610207172\n",
      "  (0, 82663)\t0.12711543490752356\n",
      "  (0, 15921)\t0.03617140701609546\n",
      "  (0, 21511)\t0.08834162753276056\n",
      "  (0, 42704)\t0.06324366915905079\n",
      "  (0, 54152)\t0.06343199512206517\n",
      "  (0, 50102)\t0.08710543487720344\n",
      "  :\t:\n",
      "  (21071, 61263)\t0.10355094852705136\n",
      "  (21071, 48580)\t0.12740500302381913\n",
      "  (21071, 90723)\t0.1313474746718976\n",
      "  (21071, 1123)\t0.21087455408114922\n",
      "  (21071, 43686)\t0.10883587218794089\n",
      "  (21071, 67147)\t0.08921827729079629\n",
      "  (21071, 30552)\t0.09274646385132845\n",
      "  (21071, 61429)\t0.10734088371588961\n",
      "  (21071, 59633)\t0.14470982847896932\n",
      "  (21071, 15337)\t0.06296731597923602\n",
      "  (21071, 9034)\t0.09487132826429565\n",
      "  (21071, 48518)\t0.17678951671381798\n",
      "  (21071, 90719)\t0.17874475757605307\n",
      "  (21071, 24796)\t0.08020006747528824\n",
      "  (21071, 61255)\t0.21034718947133252\n",
      "  (21071, 24461)\t0.06255638301022981\n",
      "  (21071, 23971)\t0.07666942391285782\n",
      "  (21071, 23561)\t0.11067126257812346\n",
      "  (21071, 71600)\t0.06583875731389038\n",
      "  (21071, 56772)\t0.21061370895681353\n",
      "  (21071, 23556)\t0.08243983189208089\n",
      "  (21071, 355)\t0.11137997983434081\n",
      "  (21071, 59010)\t0.08515548197736687\n",
      "  (21071, 76833)\t0.06311537324432152\n",
      "  (21071, 8103)\t0.05010540501008904\n"
     ]
    }
   ],
   "source": [
    "print(tfidf)"
   ]
  },
  {
   "cell_type": "markdown",
   "metadata": {
    "id": "7Q9lwvNEJrGB"
   },
   "source": [
    "## Topic Modelling using NMF\n",
    "\n",
    "Non-Negative Matrix Factorization (NMF) is an unsupervised technique so there are no labeling of topics that the model will be trained on. The way it works is that, NMF decomposes (or factorizes) high-dimensional vectors into a lower-dimensional representation. These lower-dimensional vectors are non-negative which also means their coefficients are non-negative.\n",
    "\n",
    "In this task you have to perform the following:\n",
    "\n",
    "* Find the best number of clusters \n",
    "* Apply the best number to create word clusters\n",
    "* Inspect & validate the correction of each cluster wrt the complaints \n",
    "* Correct the labels if needed \n",
    "* Map the clusters to topics/cluster names"
   ]
  },
  {
   "cell_type": "code",
   "execution_count": 33,
   "metadata": {
    "id": "amLT4omWJrGB"
   },
   "outputs": [],
   "source": [
    "from sklearn.decomposition import NMF"
   ]
  },
  {
   "cell_type": "markdown",
   "metadata": {
    "id": "0wYR1xUTJrGD"
   },
   "source": [
    "## Manual Topic Modeling\n",
    "You need to do take the trial & error approach to find the best num of topics for your NMF model.\n",
    "\n",
    "The only parameter that is required is the number of components i.e. the number of topics we want. This is the most crucial step in the whole topic modeling process and will greatly affect how good your final topics are."
   ]
  },
  {
   "cell_type": "code",
   "execution_count": 34,
   "metadata": {
    "id": "sgd2A6bhJrGD"
   },
   "outputs": [],
   "source": [
    "#Load your nmf_model with the n_components i.e 5\n",
    "num_topics = 5 #write the value you want to test out\n",
    "\n",
    "#keep the random_state =40\n",
    "nmf_model =  NMF(\n",
    "    n_components=num_topics,\n",
    "    init='nndsvd',\n",
    "    max_iter=500,\n",
    "    l1_ratio=0.0,\n",
    "    solver='cd',\n",
    "    alpha=0.0,\n",
    "    tol=1e-4,\n",
    "    random_state=40\n",
    ")"
   ]
  },
  {
   "cell_type": "code",
   "execution_count": 35,
   "metadata": {
    "id": "VPMDYbt_JrGE"
   },
   "outputs": [],
   "source": [
    "W = nmf_model.fit_transform(tfidf) # Document - topic matrix\n",
    "H = nmf_model.components_ # Topic - Term matrix\n",
    "\n",
    "feature_names = tfidf_vectorizer.get_feature_names()"
   ]
  },
  {
   "cell_type": "code",
   "execution_count": 36,
   "metadata": {
    "id": "16kRfat5JrGE"
   },
   "outputs": [
    {
     "data": {
      "text/html": [
       "<div>\n",
       "<style scoped>\n",
       "    .dataframe tbody tr th:only-of-type {\n",
       "        vertical-align: middle;\n",
       "    }\n",
       "\n",
       "    .dataframe tbody tr th {\n",
       "        vertical-align: top;\n",
       "    }\n",
       "\n",
       "    .dataframe thead th {\n",
       "        text-align: right;\n",
       "    }\n",
       "</style>\n",
       "<table border=\"1\" class=\"dataframe\">\n",
       "  <thead>\n",
       "    <tr style=\"text-align: right;\">\n",
       "      <th></th>\n",
       "      <th>0</th>\n",
       "      <th>1</th>\n",
       "      <th>2</th>\n",
       "      <th>3</th>\n",
       "      <th>4</th>\n",
       "    </tr>\n",
       "  </thead>\n",
       "  <tbody>\n",
       "    <tr>\n",
       "      <th>0</th>\n",
       "      <td>account</td>\n",
       "      <td>card</td>\n",
       "      <td>payment</td>\n",
       "      <td>inquiry</td>\n",
       "      <td>charge</td>\n",
       "    </tr>\n",
       "    <tr>\n",
       "      <th>1</th>\n",
       "      <td>check</td>\n",
       "      <td>credit</td>\n",
       "      <td>loan</td>\n",
       "      <td>report</td>\n",
       "      <td>chase</td>\n",
       "    </tr>\n",
       "    <tr>\n",
       "      <th>2</th>\n",
       "      <td>bank</td>\n",
       "      <td>credit card</td>\n",
       "      <td>mortgage</td>\n",
       "      <td>credit report</td>\n",
       "      <td>transaction</td>\n",
       "    </tr>\n",
       "    <tr>\n",
       "      <th>3</th>\n",
       "      <td>money</td>\n",
       "      <td>chase</td>\n",
       "      <td>chase</td>\n",
       "      <td>credit</td>\n",
       "      <td>dispute</td>\n",
       "    </tr>\n",
       "    <tr>\n",
       "      <th>4</th>\n",
       "      <td>fund</td>\n",
       "      <td>chase credit</td>\n",
       "      <td>modification</td>\n",
       "      <td>inquiry credit</td>\n",
       "      <td>claim</td>\n",
       "    </tr>\n",
       "    <tr>\n",
       "      <th>5</th>\n",
       "      <td>chase</td>\n",
       "      <td>balance</td>\n",
       "      <td>home</td>\n",
       "      <td>report credit</td>\n",
       "      <td>merchant</td>\n",
       "    </tr>\n",
       "    <tr>\n",
       "      <th>6</th>\n",
       "      <td>deposit</td>\n",
       "      <td>account</td>\n",
       "      <td>interest</td>\n",
       "      <td>report inquiry</td>\n",
       "      <td>fraud</td>\n",
       "    </tr>\n",
       "    <tr>\n",
       "      <th>7</th>\n",
       "      <td>branch</td>\n",
       "      <td>card credit</td>\n",
       "      <td>month</td>\n",
       "      <td>card inquiry</td>\n",
       "      <td>card</td>\n",
       "    </tr>\n",
       "    <tr>\n",
       "      <th>8</th>\n",
       "      <td>account account</td>\n",
       "      <td>card account</td>\n",
       "      <td>time</td>\n",
       "      <td>reporting</td>\n",
       "      <td>email</td>\n",
       "    </tr>\n",
       "    <tr>\n",
       "      <th>9</th>\n",
       "      <td>day</td>\n",
       "      <td>score</td>\n",
       "      <td>payment payment</td>\n",
       "      <td>credit inquiry</td>\n",
       "      <td>letter</td>\n",
       "    </tr>\n",
       "    <tr>\n",
       "      <th>10</th>\n",
       "      <td>fee</td>\n",
       "      <td>card card</td>\n",
       "      <td>year</td>\n",
       "      <td>company</td>\n",
       "      <td>service</td>\n",
       "    </tr>\n",
       "    <tr>\n",
       "      <th>11</th>\n",
       "      <td>checking</td>\n",
       "      <td>limit</td>\n",
       "      <td>rate</td>\n",
       "      <td>information</td>\n",
       "      <td>phone</td>\n",
       "    </tr>\n",
       "    <tr>\n",
       "      <th>12</th>\n",
       "      <td>chase account</td>\n",
       "      <td>card chase</td>\n",
       "      <td>balance</td>\n",
       "      <td>credit reporting</td>\n",
       "      <td>time</td>\n",
       "    </tr>\n",
       "    <tr>\n",
       "      <th>13</th>\n",
       "      <td>bank account</td>\n",
       "      <td>interest</td>\n",
       "      <td>property</td>\n",
       "      <td>account credit</td>\n",
       "      <td>information</td>\n",
       "    </tr>\n",
       "    <tr>\n",
       "      <th>14</th>\n",
       "      <td>checking account</td>\n",
       "      <td>credit score</td>\n",
       "      <td>amount</td>\n",
       "      <td>identity</td>\n",
       "      <td>number</td>\n",
       "    </tr>\n",
       "  </tbody>\n",
       "</table>\n",
       "</div>"
      ],
      "text/plain": [
       "                   0             1                2                 3  \\\n",
       "0            account          card          payment           inquiry   \n",
       "1              check        credit             loan            report   \n",
       "2               bank   credit card         mortgage     credit report   \n",
       "3              money         chase            chase            credit   \n",
       "4               fund  chase credit     modification    inquiry credit   \n",
       "5              chase       balance             home     report credit   \n",
       "6            deposit       account         interest    report inquiry   \n",
       "7             branch   card credit            month      card inquiry   \n",
       "8    account account  card account             time         reporting   \n",
       "9                day         score  payment payment    credit inquiry   \n",
       "10               fee     card card             year           company   \n",
       "11          checking         limit             rate       information   \n",
       "12     chase account    card chase          balance  credit reporting   \n",
       "13      bank account      interest         property    account credit   \n",
       "14  checking account  credit score           amount          identity   \n",
       "\n",
       "              4  \n",
       "0        charge  \n",
       "1         chase  \n",
       "2   transaction  \n",
       "3       dispute  \n",
       "4         claim  \n",
       "5      merchant  \n",
       "6         fraud  \n",
       "7          card  \n",
       "8         email  \n",
       "9        letter  \n",
       "10      service  \n",
       "11        phone  \n",
       "12         time  \n",
       "13  information  \n",
       "14       number  "
      ]
     },
     "execution_count": 36,
     "metadata": {},
     "output_type": "execute_result"
    }
   ],
   "source": [
    "#Print the Top15 words for each of the topics\n",
    "def top_words(topic, n_top_words):\n",
    "    return topic.argsort()[:-n_top_words - 1:-1] \n",
    "\n",
    "def topic_table(cmp, feature_names, n_top_words):\n",
    "    topics = {}\n",
    "    for topic_idx, topic in enumerate(cmp):\n",
    "        t = (topic_idx)\n",
    "        topics[t] = [feature_names[i] for i in top_words(topic, n_top_words)]\n",
    "    return pd.DataFrame(topics)\n",
    "\n",
    "topic_df = topic_table(\n",
    "    H,\n",
    "    feature_names,\n",
    "    15\n",
    ")\n",
    "\n",
    "topic_df.head(15)"
   ]
  },
  {
   "cell_type": "code",
   "execution_count": 37,
   "metadata": {
    "id": "peyYv-ORJrGF"
   },
   "outputs": [
    {
     "data": {
      "text/html": [
       "<div>\n",
       "<style scoped>\n",
       "    .dataframe tbody tr th:only-of-type {\n",
       "        vertical-align: middle;\n",
       "    }\n",
       "\n",
       "    .dataframe tbody tr th {\n",
       "        vertical-align: top;\n",
       "    }\n",
       "\n",
       "    .dataframe thead th {\n",
       "        text-align: right;\n",
       "    }\n",
       "</style>\n",
       "<table border=\"1\" class=\"dataframe\">\n",
       "  <thead>\n",
       "    <tr style=\"text-align: right;\">\n",
       "      <th></th>\n",
       "      <th>0</th>\n",
       "      <th>1</th>\n",
       "      <th>2</th>\n",
       "      <th>3</th>\n",
       "      <th>4</th>\n",
       "      <th>Topic_ind</th>\n",
       "    </tr>\n",
       "  </thead>\n",
       "  <tbody>\n",
       "    <tr>\n",
       "      <th>0</th>\n",
       "      <td>0.007468</td>\n",
       "      <td>0.002514</td>\n",
       "      <td>0.010925</td>\n",
       "      <td>0.004848</td>\n",
       "      <td>0.010224</td>\n",
       "      <td>2</td>\n",
       "    </tr>\n",
       "    <tr>\n",
       "      <th>1</th>\n",
       "      <td>0.005928</td>\n",
       "      <td>0.008845</td>\n",
       "      <td>0.002125</td>\n",
       "      <td>0.000101</td>\n",
       "      <td>0.006978</td>\n",
       "      <td>1</td>\n",
       "    </tr>\n",
       "    <tr>\n",
       "      <th>2</th>\n",
       "      <td>0.000000</td>\n",
       "      <td>0.022421</td>\n",
       "      <td>0.000000</td>\n",
       "      <td>0.008091</td>\n",
       "      <td>0.001570</td>\n",
       "      <td>1</td>\n",
       "    </tr>\n",
       "    <tr>\n",
       "      <th>3</th>\n",
       "      <td>0.012548</td>\n",
       "      <td>0.023294</td>\n",
       "      <td>0.004624</td>\n",
       "      <td>0.032941</td>\n",
       "      <td>0.010453</td>\n",
       "      <td>3</td>\n",
       "    </tr>\n",
       "    <tr>\n",
       "      <th>4</th>\n",
       "      <td>0.054003</td>\n",
       "      <td>0.000000</td>\n",
       "      <td>0.000449</td>\n",
       "      <td>0.000000</td>\n",
       "      <td>0.006980</td>\n",
       "      <td>0</td>\n",
       "    </tr>\n",
       "  </tbody>\n",
       "</table>\n",
       "</div>"
      ],
      "text/plain": [
       "          0         1         2         3         4  Topic_ind\n",
       "0  0.007468  0.002514  0.010925  0.004848  0.010224          2\n",
       "1  0.005928  0.008845  0.002125  0.000101  0.006978          1\n",
       "2  0.000000  0.022421  0.000000  0.008091  0.001570          1\n",
       "3  0.012548  0.023294  0.004624  0.032941  0.010453          3\n",
       "4  0.054003  0.000000  0.000449  0.000000  0.006980          0"
      ]
     },
     "execution_count": 37,
     "metadata": {},
     "output_type": "execute_result"
    }
   ],
   "source": [
    "#Assign the best topic to each of the cmplaints in Topic Column\n",
    "final = pd.DataFrame(W, columns=[i for i in range(num_topics)])\n",
    "\n",
    "final['Topic_ind'] = final.apply(lambda x: x.idxmax(), axis=1)\n",
    "final.head(5)"
   ]
  },
  {
   "cell_type": "code",
   "execution_count": 38,
   "metadata": {
    "id": "fLh_Gf3nJrGF"
   },
   "outputs": [
    {
     "name": "stderr",
     "output_type": "stream",
     "text": [
      "<ipython-input-38-96936d8c981b>:1: SettingWithCopyWarning:\n",
      "\n",
      "\n",
      "A value is trying to be set on a copy of a slice from a DataFrame.\n",
      "Try using .loc[row_indexer,col_indexer] = value instead\n",
      "\n",
      "See the caveats in the documentation: https://pandas.pydata.org/pandas-docs/stable/user_guide/indexing.html#returning-a-view-versus-a-copy\n",
      "\n"
     ]
    },
    {
     "data": {
      "text/html": [
       "<div>\n",
       "<style scoped>\n",
       "    .dataframe tbody tr th:only-of-type {\n",
       "        vertical-align: middle;\n",
       "    }\n",
       "\n",
       "    .dataframe tbody tr th {\n",
       "        vertical-align: top;\n",
       "    }\n",
       "\n",
       "    .dataframe thead th {\n",
       "        text-align: right;\n",
       "    }\n",
       "</style>\n",
       "<table border=\"1\" class=\"dataframe\">\n",
       "  <thead>\n",
       "    <tr style=\"text-align: right;\">\n",
       "      <th></th>\n",
       "      <th>complaint_clean</th>\n",
       "      <th>complaint_original</th>\n",
       "      <th>complaint_length</th>\n",
       "      <th>Topic_ind</th>\n",
       "    </tr>\n",
       "  </thead>\n",
       "  <tbody>\n",
       "    <tr>\n",
       "      <th>0</th>\n",
       "      <td>morning name   stop bank cardmember service de...</td>\n",
       "      <td>Good morning my name is XXXX XXXX and I apprec...</td>\n",
       "      <td>151</td>\n",
       "      <td>2</td>\n",
       "    </tr>\n",
       "    <tr>\n",
       "      <th>1</th>\n",
       "      <td>card agent anniversary date agent information ...</td>\n",
       "      <td>I upgraded my XXXX XXXX card in XX/XX/2018 and...</td>\n",
       "      <td>120</td>\n",
       "      <td>1</td>\n",
       "    </tr>\n",
       "    <tr>\n",
       "      <th>2</th>\n",
       "      <td>card application identity consent service cred...</td>\n",
       "      <td>Chase Card was reported on XX/XX/2019. However...</td>\n",
       "      <td>67</td>\n",
       "      <td>1</td>\n",
       "    </tr>\n",
       "    <tr>\n",
       "      <th>3</th>\n",
       "      <td>ticket offer ticket reward card information o...</td>\n",
       "      <td>On XX/XX/2018, while trying to book a XXXX  XX...</td>\n",
       "      <td>368</td>\n",
       "      <td>3</td>\n",
       "    </tr>\n",
       "    <tr>\n",
       "      <th>4</th>\n",
       "      <td>son check deposit chase account fund chase acc...</td>\n",
       "      <td>my grand son give me check for {$1600.00} i de...</td>\n",
       "      <td>165</td>\n",
       "      <td>0</td>\n",
       "    </tr>\n",
       "  </tbody>\n",
       "</table>\n",
       "</div>"
      ],
      "text/plain": [
       "                                     complaint_clean  \\\n",
       "0  morning name   stop bank cardmember service de...   \n",
       "1  card agent anniversary date agent information ...   \n",
       "2  card application identity consent service cred...   \n",
       "3   ticket offer ticket reward card information o...   \n",
       "4  son check deposit chase account fund chase acc...   \n",
       "\n",
       "                                  complaint_original  complaint_length  \\\n",
       "0  Good morning my name is XXXX XXXX and I apprec...               151   \n",
       "1  I upgraded my XXXX XXXX card in XX/XX/2018 and...               120   \n",
       "2  Chase Card was reported on XX/XX/2019. However...                67   \n",
       "3  On XX/XX/2018, while trying to book a XXXX  XX...               368   \n",
       "4  my grand son give me check for {$1600.00} i de...               165   \n",
       "\n",
       "   Topic_ind  \n",
       "0          2  \n",
       "1          1  \n",
       "2          1  \n",
       "3          3  \n",
       "4          0  "
      ]
     },
     "execution_count": 38,
     "metadata": {},
     "output_type": "execute_result"
    }
   ],
   "source": [
    "df_clean['Topic_ind'] = final['Topic_ind']\n",
    "df_clean.head(5)"
   ]
  },
  {
   "cell_type": "code",
   "execution_count": 39,
   "metadata": {
    "id": "aQKpufSPJrGG"
   },
   "outputs": [
    {
     "data": {
      "text/html": [
       "<div>\n",
       "<style scoped>\n",
       "    .dataframe tbody tr th:only-of-type {\n",
       "        vertical-align: middle;\n",
       "    }\n",
       "\n",
       "    .dataframe tbody tr th {\n",
       "        vertical-align: top;\n",
       "    }\n",
       "\n",
       "    .dataframe thead th {\n",
       "        text-align: right;\n",
       "    }\n",
       "</style>\n",
       "<table border=\"1\" class=\"dataframe\">\n",
       "  <thead>\n",
       "    <tr style=\"text-align: right;\">\n",
       "      <th></th>\n",
       "      <th>complaint_clean</th>\n",
       "      <th>complaint_original</th>\n",
       "      <th>complaint_length</th>\n",
       "      <th>Topic_ind</th>\n",
       "    </tr>\n",
       "  </thead>\n",
       "  <tbody>\n",
       "    <tr>\n",
       "      <th>12</th>\n",
       "      <td>account  code bonus term account deposit bonus...</td>\n",
       "      <td>I opened an account with chase bank on XXXX an...</td>\n",
       "      <td>97</td>\n",
       "      <td>0</td>\n",
       "    </tr>\n",
       "    <tr>\n",
       "      <th>4</th>\n",
       "      <td>son check deposit chase account fund chase acc...</td>\n",
       "      <td>my grand son give me check for {$1600.00} i de...</td>\n",
       "      <td>165</td>\n",
       "      <td>0</td>\n",
       "    </tr>\n",
       "    <tr>\n",
       "      <th>6</th>\n",
       "      <td>account debit card branch customer service rep...</td>\n",
       "      <td>With out notice J.P. Morgan Chase restricted m...</td>\n",
       "      <td>592</td>\n",
       "      <td>0</td>\n",
       "    </tr>\n",
       "    <tr>\n",
       "      <th>10</th>\n",
       "      <td>account auto</td>\n",
       "      <td>mishandling of this account by Chase auto and ...</td>\n",
       "      <td>17</td>\n",
       "      <td>0</td>\n",
       "    </tr>\n",
       "    <tr>\n",
       "      <th>13</th>\n",
       "      <td>concern chase bank overdraft fee alert balance...</td>\n",
       "      <td>To whom it may concern, Chase bank charged wro...</td>\n",
       "      <td>145</td>\n",
       "      <td>0</td>\n",
       "    </tr>\n",
       "    <tr>\n",
       "      <th>1</th>\n",
       "      <td>card agent anniversary date agent information ...</td>\n",
       "      <td>I upgraded my XXXX XXXX card in XX/XX/2018 and...</td>\n",
       "      <td>120</td>\n",
       "      <td>1</td>\n",
       "    </tr>\n",
       "    <tr>\n",
       "      <th>2</th>\n",
       "      <td>card application identity consent service cred...</td>\n",
       "      <td>Chase Card was reported on XX/XX/2019. However...</td>\n",
       "      <td>67</td>\n",
       "      <td>1</td>\n",
       "    </tr>\n",
       "    <tr>\n",
       "      <th>21</th>\n",
       "      <td>citizen company  time share company refund cre...</td>\n",
       "      <td>I AM A SENIOR CITIZEN THAT HAS BEEN SCAMMED BY...</td>\n",
       "      <td>78</td>\n",
       "      <td>1</td>\n",
       "    </tr>\n",
       "    <tr>\n",
       "      <th>9</th>\n",
       "      <td>chase credit card datum credit report company ...</td>\n",
       "      <td>I have a Chase credit card which is incorrectl...</td>\n",
       "      <td>51</td>\n",
       "      <td>1</td>\n",
       "    </tr>\n",
       "    <tr>\n",
       "      <th>14</th>\n",
       "      <td>chase amazon card catering order brother funer...</td>\n",
       "      <td>My chase amazon card was declined for a cateri...</td>\n",
       "      <td>539</td>\n",
       "      <td>1</td>\n",
       "    </tr>\n",
       "    <tr>\n",
       "      <th>30</th>\n",
       "      <td>branch  reinstatement amount order foreclosure...</td>\n",
       "      <td>I have wired through one of Chase branches in ...</td>\n",
       "      <td>393</td>\n",
       "      <td>2</td>\n",
       "    </tr>\n",
       "    <tr>\n",
       "      <th>24</th>\n",
       "      <td>purchase payment payment closing date statemen...</td>\n",
       "      <td>I made a purchase of {$260.00} on XX/XX/XXXX. ...</td>\n",
       "      <td>337</td>\n",
       "      <td>2</td>\n",
       "    </tr>\n",
       "    <tr>\n",
       "      <th>23</th>\n",
       "      <td>loan modification chase mo payment aen doc</td>\n",
       "      <td>I have been trying to do a loan modification w...</td>\n",
       "      <td>42</td>\n",
       "      <td>2</td>\n",
       "    </tr>\n",
       "    <tr>\n",
       "      <th>0</th>\n",
       "      <td>morning name   stop bank cardmember service de...</td>\n",
       "      <td>Good morning my name is XXXX XXXX and I apprec...</td>\n",
       "      <td>151</td>\n",
       "      <td>2</td>\n",
       "    </tr>\n",
       "    <tr>\n",
       "      <th>7</th>\n",
       "      <td>summer month experience decline income employm...</td>\n",
       "      <td>During the summer months, I experience a decli...</td>\n",
       "      <td>551</td>\n",
       "      <td>2</td>\n",
       "    </tr>\n",
       "    <tr>\n",
       "      <th>11</th>\n",
       "      <td>time attempt inquiry creditor inquiry report a...</td>\n",
       "      <td>I have reached out to XXXX several times in at...</td>\n",
       "      <td>174</td>\n",
       "      <td>3</td>\n",
       "    </tr>\n",
       "    <tr>\n",
       "      <th>5</th>\n",
       "      <td>inquiry</td>\n",
       "      <td>Can you please remove inquiry</td>\n",
       "      <td>7</td>\n",
       "      <td>3</td>\n",
       "    </tr>\n",
       "    <tr>\n",
       "      <th>3</th>\n",
       "      <td>ticket offer ticket reward card information o...</td>\n",
       "      <td>On XX/XX/2018, while trying to book a XXXX  XX...</td>\n",
       "      <td>368</td>\n",
       "      <td>3</td>\n",
       "    </tr>\n",
       "    <tr>\n",
       "      <th>34</th>\n",
       "      <td>inquire credit bureau date company chase auto</td>\n",
       "      <td>UNKNOWN INQUIRE REPORTED ON MY CREDIT BUREAU S...</td>\n",
       "      <td>45</td>\n",
       "      <td>3</td>\n",
       "    </tr>\n",
       "    <tr>\n",
       "      <th>35</th>\n",
       "      <td>student loan account account attempt work depa...</td>\n",
       "      <td>A student loan with Chase bank, they sold ther...</td>\n",
       "      <td>101</td>\n",
       "      <td>3</td>\n",
       "    </tr>\n",
       "    <tr>\n",
       "      <th>16</th>\n",
       "      <td>sofa love seat table chair debit card visa cla...</td>\n",
       "      <td>XXXX XXXX a sofa, love seat, table and chairs ...</td>\n",
       "      <td>64</td>\n",
       "      <td>4</td>\n",
       "    </tr>\n",
       "    <tr>\n",
       "      <th>18</th>\n",
       "      <td>chase email today title information change cha...</td>\n",
       "      <td>Chase sent me an email today with the innocuou...</td>\n",
       "      <td>177</td>\n",
       "      <td>4</td>\n",
       "    </tr>\n",
       "    <tr>\n",
       "      <th>19</th>\n",
       "      <td>purchase    amount transaction dispute case ch...</td>\n",
       "      <td>I made a purchase with XXXX XXXX XXXX on XX/XX...</td>\n",
       "      <td>483</td>\n",
       "      <td>4</td>\n",
       "    </tr>\n",
       "    <tr>\n",
       "      <th>20</th>\n",
       "      <td>question information   reason information chas...</td>\n",
       "      <td>JP Morgan Chase Bank, please answer the follow...</td>\n",
       "      <td>292</td>\n",
       "      <td>4</td>\n",
       "    </tr>\n",
       "    <tr>\n",
       "      <th>8</th>\n",
       "      <td>payment retailer pay  chase website scam websi...</td>\n",
       "      <td>On XXXX XX/XX/2019, I made a {$300.00} payment...</td>\n",
       "      <td>1085</td>\n",
       "      <td>4</td>\n",
       "    </tr>\n",
       "  </tbody>\n",
       "</table>\n",
       "</div>"
      ],
      "text/plain": [
       "                                      complaint_clean  \\\n",
       "12  account  code bonus term account deposit bonus...   \n",
       "4   son check deposit chase account fund chase acc...   \n",
       "6   account debit card branch customer service rep...   \n",
       "10                                      account auto    \n",
       "13  concern chase bank overdraft fee alert balance...   \n",
       "1   card agent anniversary date agent information ...   \n",
       "2   card application identity consent service cred...   \n",
       "21  citizen company  time share company refund cre...   \n",
       "9   chase credit card datum credit report company ...   \n",
       "14  chase amazon card catering order brother funer...   \n",
       "30  branch  reinstatement amount order foreclosure...   \n",
       "24  purchase payment payment closing date statemen...   \n",
       "23         loan modification chase mo payment aen doc   \n",
       "0   morning name   stop bank cardmember service de...   \n",
       "7   summer month experience decline income employm...   \n",
       "11  time attempt inquiry creditor inquiry report a...   \n",
       "5                                             inquiry   \n",
       "3    ticket offer ticket reward card information o...   \n",
       "34      inquire credit bureau date company chase auto   \n",
       "35  student loan account account attempt work depa...   \n",
       "16  sofa love seat table chair debit card visa cla...   \n",
       "18  chase email today title information change cha...   \n",
       "19  purchase    amount transaction dispute case ch...   \n",
       "20  question information   reason information chas...   \n",
       "8   payment retailer pay  chase website scam websi...   \n",
       "\n",
       "                                   complaint_original  complaint_length  \\\n",
       "12  I opened an account with chase bank on XXXX an...                97   \n",
       "4   my grand son give me check for {$1600.00} i de...               165   \n",
       "6   With out notice J.P. Morgan Chase restricted m...               592   \n",
       "10  mishandling of this account by Chase auto and ...                17   \n",
       "13  To whom it may concern, Chase bank charged wro...               145   \n",
       "1   I upgraded my XXXX XXXX card in XX/XX/2018 and...               120   \n",
       "2   Chase Card was reported on XX/XX/2019. However...                67   \n",
       "21  I AM A SENIOR CITIZEN THAT HAS BEEN SCAMMED BY...                78   \n",
       "9   I have a Chase credit card which is incorrectl...                51   \n",
       "14  My chase amazon card was declined for a cateri...               539   \n",
       "30  I have wired through one of Chase branches in ...               393   \n",
       "24  I made a purchase of {$260.00} on XX/XX/XXXX. ...               337   \n",
       "23  I have been trying to do a loan modification w...                42   \n",
       "0   Good morning my name is XXXX XXXX and I apprec...               151   \n",
       "7   During the summer months, I experience a decli...               551   \n",
       "11  I have reached out to XXXX several times in at...               174   \n",
       "5                       Can you please remove inquiry                 7   \n",
       "3   On XX/XX/2018, while trying to book a XXXX  XX...               368   \n",
       "34  UNKNOWN INQUIRE REPORTED ON MY CREDIT BUREAU S...                45   \n",
       "35  A student loan with Chase bank, they sold ther...               101   \n",
       "16  XXXX XXXX a sofa, love seat, table and chairs ...                64   \n",
       "18  Chase sent me an email today with the innocuou...               177   \n",
       "19  I made a purchase with XXXX XXXX XXXX on XX/XX...               483   \n",
       "20  JP Morgan Chase Bank, please answer the follow...               292   \n",
       "8   On XXXX XX/XX/2019, I made a {$300.00} payment...              1085   \n",
       "\n",
       "    Topic_ind  \n",
       "12          0  \n",
       "4           0  \n",
       "6           0  \n",
       "10          0  \n",
       "13          0  \n",
       "1           1  \n",
       "2           1  \n",
       "21          1  \n",
       "9           1  \n",
       "14          1  \n",
       "30          2  \n",
       "24          2  \n",
       "23          2  \n",
       "0           2  \n",
       "7           2  \n",
       "11          3  \n",
       "5           3  \n",
       "3           3  \n",
       "34          3  \n",
       "35          3  \n",
       "16          4  \n",
       "18          4  \n",
       "19          4  \n",
       "20          4  \n",
       "8           4  "
      ]
     },
     "execution_count": 39,
     "metadata": {},
     "output_type": "execute_result"
    }
   ],
   "source": [
    "#Print the first 5 Complaint for each of the Topics\n",
    "df_clean_grp=df_clean.groupby('Topic_ind').head(5)\n",
    "df_clean_grp.sort_values('Topic_ind')"
   ]
  },
  {
   "cell_type": "markdown",
   "metadata": {
    "id": "piyLxzj6v07j"
   },
   "source": [
    "#### After evaluating the mapping, if the topics assigned are correct then assign these names to the relevant topic:\n",
    "* Bank Account services\n",
    "* Credit card or prepaid card\n",
    "* Theft/Dispute Reporting\n",
    "* Mortgage/Loan\n",
    "* Others"
   ]
  },
  {
   "cell_type": "code",
   "execution_count": 40,
   "metadata": {},
   "outputs": [
    {
     "name": "stderr",
     "output_type": "stream",
     "text": [
      "<ipython-input-40-651704e5fc7d>:8: SettingWithCopyWarning:\n",
      "\n",
      "\n",
      "A value is trying to be set on a copy of a slice from a DataFrame.\n",
      "Try using .loc[row_indexer,col_indexer] = value instead\n",
      "\n",
      "See the caveats in the documentation: https://pandas.pydata.org/pandas-docs/stable/user_guide/indexing.html#returning-a-view-versus-a-copy\n",
      "\n"
     ]
    }
   ],
   "source": [
    "topic_mapping = {\n",
    "    0 : \"Bank Account services\",\n",
    "    1 : \"Credit card or prepaid card\",\n",
    "    2 : \"Mortgage/Loan\",\n",
    "    3 : \"Others\",\n",
    "    4 : \"Theft/Dispute Reporting\"\n",
    "}\n",
    "df_clean['Topic'] = df_clean['Topic_ind'].map(topic_mapping)"
   ]
  },
  {
   "cell_type": "code",
   "execution_count": 41,
   "metadata": {},
   "outputs": [
    {
     "data": {
      "text/html": [
       "<div>\n",
       "<style scoped>\n",
       "    .dataframe tbody tr th:only-of-type {\n",
       "        vertical-align: middle;\n",
       "    }\n",
       "\n",
       "    .dataframe tbody tr th {\n",
       "        vertical-align: top;\n",
       "    }\n",
       "\n",
       "    .dataframe thead th {\n",
       "        text-align: right;\n",
       "    }\n",
       "</style>\n",
       "<table border=\"1\" class=\"dataframe\">\n",
       "  <thead>\n",
       "    <tr style=\"text-align: right;\">\n",
       "      <th></th>\n",
       "      <th>complaint_clean</th>\n",
       "      <th>complaint_original</th>\n",
       "      <th>complaint_length</th>\n",
       "      <th>Topic_ind</th>\n",
       "      <th>Topic</th>\n",
       "    </tr>\n",
       "  </thead>\n",
       "  <tbody>\n",
       "    <tr>\n",
       "      <th>0</th>\n",
       "      <td>morning name   stop bank cardmember service de...</td>\n",
       "      <td>Good morning my name is XXXX XXXX and I apprec...</td>\n",
       "      <td>151</td>\n",
       "      <td>2</td>\n",
       "      <td>Mortgage/Loan</td>\n",
       "    </tr>\n",
       "    <tr>\n",
       "      <th>1</th>\n",
       "      <td>card agent anniversary date agent information ...</td>\n",
       "      <td>I upgraded my XXXX XXXX card in XX/XX/2018 and...</td>\n",
       "      <td>120</td>\n",
       "      <td>1</td>\n",
       "      <td>Credit card or prepaid card</td>\n",
       "    </tr>\n",
       "    <tr>\n",
       "      <th>2</th>\n",
       "      <td>card application identity consent service cred...</td>\n",
       "      <td>Chase Card was reported on XX/XX/2019. However...</td>\n",
       "      <td>67</td>\n",
       "      <td>1</td>\n",
       "      <td>Credit card or prepaid card</td>\n",
       "    </tr>\n",
       "    <tr>\n",
       "      <th>3</th>\n",
       "      <td>ticket offer ticket reward card information o...</td>\n",
       "      <td>On XX/XX/2018, while trying to book a XXXX  XX...</td>\n",
       "      <td>368</td>\n",
       "      <td>3</td>\n",
       "      <td>Others</td>\n",
       "    </tr>\n",
       "    <tr>\n",
       "      <th>4</th>\n",
       "      <td>son check deposit chase account fund chase acc...</td>\n",
       "      <td>my grand son give me check for {$1600.00} i de...</td>\n",
       "      <td>165</td>\n",
       "      <td>0</td>\n",
       "      <td>Bank Account services</td>\n",
       "    </tr>\n",
       "  </tbody>\n",
       "</table>\n",
       "</div>"
      ],
      "text/plain": [
       "                                     complaint_clean  \\\n",
       "0  morning name   stop bank cardmember service de...   \n",
       "1  card agent anniversary date agent information ...   \n",
       "2  card application identity consent service cred...   \n",
       "3   ticket offer ticket reward card information o...   \n",
       "4  son check deposit chase account fund chase acc...   \n",
       "\n",
       "                                  complaint_original  complaint_length  \\\n",
       "0  Good morning my name is XXXX XXXX and I apprec...               151   \n",
       "1  I upgraded my XXXX XXXX card in XX/XX/2018 and...               120   \n",
       "2  Chase Card was reported on XX/XX/2019. However...                67   \n",
       "3  On XX/XX/2018, while trying to book a XXXX  XX...               368   \n",
       "4  my grand son give me check for {$1600.00} i de...               165   \n",
       "\n",
       "   Topic_ind                        Topic  \n",
       "0          2                Mortgage/Loan  \n",
       "1          1  Credit card or prepaid card  \n",
       "2          1  Credit card or prepaid card  \n",
       "3          3                       Others  \n",
       "4          0        Bank Account services  "
      ]
     },
     "execution_count": 41,
     "metadata": {},
     "output_type": "execute_result"
    }
   ],
   "source": [
    "df_clean.head()"
   ]
  },
  {
   "cell_type": "markdown",
   "metadata": {
    "id": "7Mu0QBOcJrGH"
   },
   "source": [
    "## Supervised model to predict any new complaints to the relevant Topics.\n",
    "\n",
    "You have now build the model to create the topics for each complaints.Now in the below section you will use them to classify any new complaints.\n",
    "\n",
    "Since you will be using supervised learning technique we have to convert the topic names to numbers(numpy arrays only understand numbers)"
   ]
  },
  {
   "cell_type": "code",
   "execution_count": 42,
   "metadata": {
    "scrolled": true
   },
   "outputs": [
    {
     "data": {
      "text/plain": [
       "Index(['_index', '_type', '_id', '_score', 'tags', 'zip_code', 'complaint_id',\n",
       "       'issue', 'date_received', 'state', 'consumer_disputed', 'product',\n",
       "       'company_response', 'company', 'submitted_via', 'date_sent_to_company',\n",
       "       'company_public_response', 'sub_product', 'timely',\n",
       "       'complaint_original', 'sub_issue', 'consumer_consent_provided',\n",
       "       'complaint_clean'],\n",
       "      dtype='object')"
      ]
     },
     "execution_count": 42,
     "metadata": {},
     "output_type": "execute_result"
    }
   ],
   "source": [
    "df.columns"
   ]
  },
  {
   "cell_type": "code",
   "execution_count": 43,
   "metadata": {
    "id": "Xx-FrbkWJrGH"
   },
   "outputs": [],
   "source": [
    "#Keep the columns\"complaint_what_happened\" & \"Topic\" only in the new dataframe --> training_data\n",
    "training_data=df_clean[['complaint_original','Topic_ind']]"
   ]
  },
  {
   "cell_type": "code",
   "execution_count": 44,
   "metadata": {
    "id": "lVg2pa12JrGI"
   },
   "outputs": [
    {
     "data": {
      "text/html": [
       "<div>\n",
       "<style scoped>\n",
       "    .dataframe tbody tr th:only-of-type {\n",
       "        vertical-align: middle;\n",
       "    }\n",
       "\n",
       "    .dataframe tbody tr th {\n",
       "        vertical-align: top;\n",
       "    }\n",
       "\n",
       "    .dataframe thead th {\n",
       "        text-align: right;\n",
       "    }\n",
       "</style>\n",
       "<table border=\"1\" class=\"dataframe\">\n",
       "  <thead>\n",
       "    <tr style=\"text-align: right;\">\n",
       "      <th></th>\n",
       "      <th>complaint_original</th>\n",
       "      <th>Topic_ind</th>\n",
       "    </tr>\n",
       "  </thead>\n",
       "  <tbody>\n",
       "    <tr>\n",
       "      <th>0</th>\n",
       "      <td>Good morning my name is XXXX XXXX and I apprec...</td>\n",
       "      <td>2</td>\n",
       "    </tr>\n",
       "    <tr>\n",
       "      <th>1</th>\n",
       "      <td>I upgraded my XXXX XXXX card in XX/XX/2018 and...</td>\n",
       "      <td>1</td>\n",
       "    </tr>\n",
       "    <tr>\n",
       "      <th>2</th>\n",
       "      <td>Chase Card was reported on XX/XX/2019. However...</td>\n",
       "      <td>1</td>\n",
       "    </tr>\n",
       "    <tr>\n",
       "      <th>3</th>\n",
       "      <td>On XX/XX/2018, while trying to book a XXXX  XX...</td>\n",
       "      <td>3</td>\n",
       "    </tr>\n",
       "    <tr>\n",
       "      <th>4</th>\n",
       "      <td>my grand son give me check for {$1600.00} i de...</td>\n",
       "      <td>0</td>\n",
       "    </tr>\n",
       "  </tbody>\n",
       "</table>\n",
       "</div>"
      ],
      "text/plain": [
       "                                  complaint_original  Topic_ind\n",
       "0  Good morning my name is XXXX XXXX and I apprec...          2\n",
       "1  I upgraded my XXXX XXXX card in XX/XX/2018 and...          1\n",
       "2  Chase Card was reported on XX/XX/2019. However...          1\n",
       "3  On XX/XX/2018, while trying to book a XXXX  XX...          3\n",
       "4  my grand son give me check for {$1600.00} i de...          0"
      ]
     },
     "execution_count": 44,
     "metadata": {},
     "output_type": "execute_result"
    }
   ],
   "source": [
    "training_data.head(5)"
   ]
  },
  {
   "cell_type": "code",
   "execution_count": 45,
   "metadata": {},
   "outputs": [],
   "source": [
    "from sklearn.model_selection import train_test_split\n",
    "from sklearn.linear_model import LogisticRegression\n",
    "from sklearn.ensemble import RandomForestClassifier\n",
    "from sklearn.metrics import confusion_matrix\n",
    "from sklearn import metrics\n",
    "from sklearn.metrics import accuracy_score, classification_report"
   ]
  },
  {
   "cell_type": "markdown",
   "metadata": {
    "id": "280Vbqk-7a8M"
   },
   "source": [
    "#### Apply the supervised models on the training data created. In this process, you have to do the following:\n",
    "* Create the vector counts using Count Vectoriser\n",
    "* Transform the word vecotr to tf-idf\n",
    "* Create the train & test data using the train_test_split on the tf-idf & topics\n"
   ]
  },
  {
   "cell_type": "code",
   "execution_count": 46,
   "metadata": {
    "id": "oUlQpgkzJrGI"
   },
   "outputs": [],
   "source": [
    "#Write your code to get the Vector count\n",
    "#Write your code here to transform the word vector to tf-idf\n",
    "X = training_data.complaint_original.values\n",
    "y = training_data.Topic_ind.values\n",
    "\n",
    "X_train,X_test,y_train,y_test = train_test_split(X,y,test_size=0.2,random_state=70)\n",
    "\n",
    "vectoriser = CountVectorizer()\n",
    "tfIdfTransformer = TfidfTransformer(use_idf=True)\n",
    "\n",
    "X_train = vectoriser.fit_transform(X_train)\n",
    "X_train = tfIdfTransformer.fit_transform(X_train).toarray()\n",
    "\n",
    "X_test = vectoriser.transform(X_test)\n",
    "X_test = tfIdfTransformer.transform(X_test).toarray()"
   ]
  },
  {
   "cell_type": "code",
   "execution_count": 47,
   "metadata": {},
   "outputs": [
    {
     "data": {
      "text/plain": [
       "array([4, 4, 2, ..., 4, 4, 0], dtype=int64)"
      ]
     },
     "execution_count": 47,
     "metadata": {},
     "output_type": "execute_result"
    }
   ],
   "source": [
    "y_train"
   ]
  },
  {
   "cell_type": "code",
   "execution_count": 48,
   "metadata": {},
   "outputs": [
    {
     "data": {
      "text/plain": [
       "2    5314\n",
       "0    5236\n",
       "4    4754\n",
       "1    4015\n",
       "3    1753\n",
       "Name: Topic_ind, dtype: int64"
      ]
     },
     "execution_count": 48,
     "metadata": {},
     "output_type": "execute_result"
    }
   ],
   "source": [
    "# Distribution of topics in dataset\n",
    "training_data.Topic_ind.value_counts()"
   ]
  },
  {
   "cell_type": "markdown",
   "metadata": {
    "id": "uMU3vj6w-wqL"
   },
   "source": [
    "You have to try atleast 3 models on the train & test data from these options:\n",
    "* Logistic regression\n",
    "* Decision Tree\n",
    "* Random Forest\n",
    "* Naive Bayes (optional)\n",
    "\n",
    "**Using the required evaluation metrics judge the tried models and select the ones performing the best**"
   ]
  },
  {
   "cell_type": "code",
   "execution_count": 49,
   "metadata": {
    "id": "udLHpPsZJrGI"
   },
   "outputs": [
    {
     "name": "stderr",
     "output_type": "stream",
     "text": [
      "C:\\Users\\Supran\\anaconda3\\lib\\site-packages\\sklearn\\linear_model\\_logistic.py:762: ConvergenceWarning:\n",
      "\n",
      "lbfgs failed to converge (status=1):\n",
      "STOP: TOTAL NO. of ITERATIONS REACHED LIMIT.\n",
      "\n",
      "Increase the number of iterations (max_iter) or scale the data as shown in:\n",
      "    https://scikit-learn.org/stable/modules/preprocessing.html\n",
      "Please also refer to the documentation for alternative solver options:\n",
      "    https://scikit-learn.org/stable/modules/linear_model.html#logistic-regression\n",
      "\n"
     ]
    },
    {
     "data": {
      "text/plain": [
       "LogisticRegression(multi_class='multinomial')"
      ]
     },
     "execution_count": 49,
     "metadata": {},
     "output_type": "execute_result"
    }
   ],
   "source": [
    "# Write your code here to build any 3 models and evaluate them using the required metrics\n",
    "lr = LogisticRegression(multi_class='multinomial', solver='lbfgs' , penalty = 'l2')\n",
    "\n",
    "lr.fit(X_train,y_train)"
   ]
  },
  {
   "cell_type": "code",
   "execution_count": 50,
   "metadata": {
    "id": "N2OznsObJrGP",
    "scrolled": true
   },
   "outputs": [
    {
     "name": "stdout",
     "output_type": "stream",
     "text": [
      "ACC on train : 0.9634573174348935\n",
      "ACC on test : 0.9155397390272835\n",
      "              precision    recall  f1-score   support\n",
      "\n",
      "           0       0.93      0.92      0.93      1054\n",
      "           1       0.91      0.88      0.89       784\n",
      "           2       0.93      0.96      0.94      1071\n",
      "           3       0.90      0.85      0.87       342\n",
      "           4       0.90      0.91      0.90       964\n",
      "\n",
      "    accuracy                           0.92      4215\n",
      "   macro avg       0.91      0.90      0.91      4215\n",
      "weighted avg       0.92      0.92      0.92      4215\n",
      "\n"
     ]
    }
   ],
   "source": [
    "y_pred_train = lr.predict(X_train)\n",
    "y_pred = lr.predict(X_test)\n",
    "clf_report = classification_report(y_test,y_pred)\n",
    "print(F'ACC on train : {accuracy_score(y_train,y_pred_train)}')\n",
    "print(F'ACC on test : {accuracy_score(y_test,y_pred)}')\n",
    "print(clf_report)"
   ]
  },
  {
   "cell_type": "code",
   "execution_count": 51,
   "metadata": {},
   "outputs": [
    {
     "name": "stdout",
     "output_type": "stream",
     "text": [
      "ACC n train: 1.0\n",
      "ACC n test: 0.7753262158956109\n",
      "              precision    recall  f1-score   support\n",
      "\n",
      "           0       0.78      0.79      0.79      1054\n",
      "           1       0.76      0.76      0.76       784\n",
      "           2       0.83      0.83      0.83      1071\n",
      "           3       0.75      0.75      0.75       342\n",
      "           4       0.73      0.71      0.72       964\n",
      "\n",
      "    accuracy                           0.78      4215\n",
      "   macro avg       0.77      0.77      0.77      4215\n",
      "weighted avg       0.77      0.78      0.78      4215\n",
      "\n"
     ]
    }
   ],
   "source": [
    "from sklearn.tree import DecisionTreeClassifier\n",
    "dt = DecisionTreeClassifier(random_state=72)\n",
    "dt.fit(X_train,y_train)\n",
    "y_pred_train = dt.predict(X_train)\n",
    "y_pred = dt.predict(X_test)\n",
    "clf_report = classification_report(y_test,y_pred)\n",
    "print(F'ACC n train: {accuracy_score(y_train,y_pred_train)}')\n",
    "print(F'ACC n test: {accuracy_score(y_test,y_pred)}')\n",
    "print(clf_report)"
   ]
  },
  {
   "cell_type": "code",
   "execution_count": null,
   "metadata": {},
   "outputs": [
    {
     "name": "stdout",
     "output_type": "stream",
     "text": [
      "Fitting 5 folds for each of 27 candidates, totalling 135 fits\n"
     ]
    },
    {
     "name": "stderr",
     "output_type": "stream",
     "text": [
      "[Parallel(n_jobs=-1)]: Using backend LokyBackend with 4 concurrent workers.\n"
     ]
    }
   ],
   "source": [
    "from sklearn.model_selection import GridSearchCV\n",
    "dt = DecisionTreeClassifier(random_state=72)\n",
    "params = {\n",
    "    'max_depth':[2,5,10],\n",
    "    'min_samples_leaf':[5,10,20],\n",
    "    'min_samples_split':[5,10,20]\n",
    "}\n",
    "grid_search = GridSearchCV(estimator=dt,\n",
    "            param_grid=params,\n",
    "            cv=3,\n",
    "            n_jobs=-1,verbose=10,\n",
    "            scoring=\"accuracy\")\n",
    "\n",
    "grid_result = grid_search.fit(X_train,y_train)\n"
   ]
  },
  {
   "cell_type": "code",
   "execution_count": 56,
   "metadata": {},
   "outputs": [
    {
     "name": "stdout",
     "output_type": "stream",
     "text": [
      "ACC n train: 1.0\n",
      "ACC n test: 0.7753262158956109\n",
      "              precision    recall  f1-score   support\n",
      "\n",
      "           0       0.78      0.79      0.79      1054\n",
      "           1       0.76      0.76      0.76       784\n",
      "           2       0.83      0.83      0.83      1071\n",
      "           3       0.75      0.75      0.75       342\n",
      "           4       0.73      0.71      0.72       964\n",
      "\n",
      "    accuracy                           0.78      4215\n",
      "   macro avg       0.77      0.77      0.77      4215\n",
      "weighted avg       0.77      0.78      0.78      4215\n",
      "\n"
     ]
    }
   ],
   "source": [
    "y_pred_train = dt.predict(X_train)\n",
    "y_pred = dt.predict(X_test)\n",
    "clf_report = classification_report(y_test,y_pred)\n",
    "print(F'ACC n train: {accuracy_score(y_train,y_pred_train)}')\n",
    "print(F'ACC n test: {accuracy_score(y_test,y_pred)}')\n",
    "print(clf_report)"
   ]
  },
  {
   "cell_type": "code",
   "execution_count": 58,
   "metadata": {},
   "outputs": [
    {
     "data": {
      "text/plain": [
       "RandomForestClassifier(n_estimators=50)"
      ]
     },
     "execution_count": 58,
     "metadata": {},
     "output_type": "execute_result"
    }
   ],
   "source": [
    "from sklearn.ensemble import RandomForestClassifier\n",
    "rf = RandomForestClassifier(n_estimators= 50)\n",
    "rf.fit(X_train,y_train)"
   ]
  },
  {
   "cell_type": "code",
   "execution_count": 59,
   "metadata": {},
   "outputs": [
    {
     "name": "stdout",
     "output_type": "stream",
     "text": [
      "ACC n train: 1.0\n",
      "ACC n test: 0.8230130486358245\n",
      "              precision    recall  f1-score   support\n",
      "\n",
      "           0       0.80      0.88      0.84      1054\n",
      "           1       0.80      0.75      0.78       784\n",
      "           2       0.84      0.90      0.87      1071\n",
      "           3       0.89      0.71      0.79       342\n",
      "           4       0.83      0.77      0.80       964\n",
      "\n",
      "    accuracy                           0.82      4215\n",
      "   macro avg       0.83      0.80      0.81      4215\n",
      "weighted avg       0.82      0.82      0.82      4215\n",
      "\n"
     ]
    }
   ],
   "source": [
    "y_pred_train = rf.predict(X_train)\n",
    "y_pred = rf.predict(X_test)\n",
    "clf_report = classification_report(y_test,y_pred)\n",
    "print(F'ACC n train: {accuracy_score(y_train,y_pred_train)}')\n",
    "print(F'ACC n test: {accuracy_score(y_test,y_pred)}')\n",
    "print(clf_report)"
   ]
  }
 ],
 "metadata": {
  "colab": {
   "collapsed_sections": [
    "T9jD_6SeJrF3",
    "5DfCSbbmJrF4",
    "yYzD85nTJrGA",
    "piyLxzj6v07j",
    "280Vbqk-7a8M"
   ],
   "name": "Automatic_Ticket_Classification_Assignment.ipynb",
   "provenance": []
  },
  "kernelspec": {
   "display_name": "Python 3",
   "language": "python",
   "name": "python3"
  },
  "language_info": {
   "codemirror_mode": {
    "name": "ipython",
    "version": 3
   },
   "file_extension": ".py",
   "mimetype": "text/x-python",
   "name": "python",
   "nbconvert_exporter": "python",
   "pygments_lexer": "ipython3",
   "version": "3.8.5"
  }
 },
 "nbformat": 4,
 "nbformat_minor": 1
}
